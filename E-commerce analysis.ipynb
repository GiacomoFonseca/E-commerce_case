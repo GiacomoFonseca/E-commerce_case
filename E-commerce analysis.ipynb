{
 "cells": [
  {
   "cell_type": "markdown",
   "metadata": {},
   "source": [
    "# Data Analysis - e-commerce"
   ]
  },
  {
   "cell_type": "markdown",
   "metadata": {},
   "source": [
    "### DataSet\n",
    "\n",
    "Online store clients behavior - Dataset available on (https://www.kaggle.com/mkechinov/ecommerce-behavior-data-from-multi-category-store).\n",
    "\n",
    "The dataset used is the one relative to October 2019"
   ]
  },
  {
   "cell_type": "code",
   "execution_count": 315,
   "metadata": {
    "pycharm": {
     "name": "#%%\n"
    }
   },
   "outputs": [],
   "source": [
    "from datetime import datetime\n",
    "import numpy as np\n",
    "import pandas as pd\n",
    "import matplotlib.pyplot as plt\n",
    "%matplotlib inline\n",
    "import seaborn as sns\n",
    "\n",
    "pd.options.display.float_format = \"{:,.2f}\".format;"
   ]
  },
  {
   "cell_type": "markdown",
   "metadata": {},
   "source": [
    "## Import the data\n"
   ]
  },
  {
   "cell_type": "code",
   "execution_count": 316,
   "metadata": {
    "collapsed": true,
    "pycharm": {
     "is_executing": true,
     "name": "#%%\n"
    }
   },
   "outputs": [],
   "source": [
    "df = pd.read_csv('2019-Oct.csv')"
   ]
  },
  {
   "cell_type": "code",
   "execution_count": 317,
   "metadata": {
    "pycharm": {
     "is_executing": true,
     "name": "#%%\n"
    }
   },
   "outputs": [
    {
     "data": {
      "text/html": [
       "<div>\n",
       "<style scoped>\n",
       "    .dataframe tbody tr th:only-of-type {\n",
       "        vertical-align: middle;\n",
       "    }\n",
       "\n",
       "    .dataframe tbody tr th {\n",
       "        vertical-align: top;\n",
       "    }\n",
       "\n",
       "    .dataframe thead th {\n",
       "        text-align: right;\n",
       "    }\n",
       "</style>\n",
       "<table border=\"1\" class=\"dataframe\">\n",
       "  <thead>\n",
       "    <tr style=\"text-align: right;\">\n",
       "      <th></th>\n",
       "      <th>event_time</th>\n",
       "      <th>event_type</th>\n",
       "      <th>product_id</th>\n",
       "      <th>category_id</th>\n",
       "      <th>category_code</th>\n",
       "      <th>brand</th>\n",
       "      <th>price</th>\n",
       "      <th>user_id</th>\n",
       "      <th>user_session</th>\n",
       "    </tr>\n",
       "  </thead>\n",
       "  <tbody>\n",
       "    <tr>\n",
       "      <th>0</th>\n",
       "      <td>2019-10-01 00:00:00 UTC</td>\n",
       "      <td>view</td>\n",
       "      <td>44600062</td>\n",
       "      <td>2103807459595387724</td>\n",
       "      <td>NaN</td>\n",
       "      <td>shiseido</td>\n",
       "      <td>35.79</td>\n",
       "      <td>541312140</td>\n",
       "      <td>72d76fde-8bb3-4e00-8c23-a032dfed738c</td>\n",
       "    </tr>\n",
       "    <tr>\n",
       "      <th>1</th>\n",
       "      <td>2019-10-01 00:00:00 UTC</td>\n",
       "      <td>view</td>\n",
       "      <td>3900821</td>\n",
       "      <td>2053013552326770905</td>\n",
       "      <td>appliances.environment.water_heater</td>\n",
       "      <td>aqua</td>\n",
       "      <td>33.20</td>\n",
       "      <td>554748717</td>\n",
       "      <td>9333dfbd-b87a-4708-9857-6336556b0fcc</td>\n",
       "    </tr>\n",
       "    <tr>\n",
       "      <th>2</th>\n",
       "      <td>2019-10-01 00:00:01 UTC</td>\n",
       "      <td>view</td>\n",
       "      <td>17200506</td>\n",
       "      <td>2053013559792632471</td>\n",
       "      <td>furniture.living_room.sofa</td>\n",
       "      <td>NaN</td>\n",
       "      <td>543.10</td>\n",
       "      <td>519107250</td>\n",
       "      <td>566511c2-e2e3-422b-b695-cf8e6e792ca8</td>\n",
       "    </tr>\n",
       "    <tr>\n",
       "      <th>3</th>\n",
       "      <td>2019-10-01 00:00:01 UTC</td>\n",
       "      <td>view</td>\n",
       "      <td>1307067</td>\n",
       "      <td>2053013558920217191</td>\n",
       "      <td>computers.notebook</td>\n",
       "      <td>lenovo</td>\n",
       "      <td>251.74</td>\n",
       "      <td>550050854</td>\n",
       "      <td>7c90fc70-0e80-4590-96f3-13c02c18c713</td>\n",
       "    </tr>\n",
       "    <tr>\n",
       "      <th>4</th>\n",
       "      <td>2019-10-01 00:00:04 UTC</td>\n",
       "      <td>view</td>\n",
       "      <td>1004237</td>\n",
       "      <td>2053013555631882655</td>\n",
       "      <td>electronics.smartphone</td>\n",
       "      <td>apple</td>\n",
       "      <td>1,081.98</td>\n",
       "      <td>535871217</td>\n",
       "      <td>c6bd7419-2748-4c56-95b4-8cec9ff8b80d</td>\n",
       "    </tr>\n",
       "  </tbody>\n",
       "</table>\n",
       "</div>"
      ],
      "text/plain": [
       "                event_time event_type  product_id          category_id  \\\n",
       "0  2019-10-01 00:00:00 UTC       view    44600062  2103807459595387724   \n",
       "1  2019-10-01 00:00:00 UTC       view     3900821  2053013552326770905   \n",
       "2  2019-10-01 00:00:01 UTC       view    17200506  2053013559792632471   \n",
       "3  2019-10-01 00:00:01 UTC       view     1307067  2053013558920217191   \n",
       "4  2019-10-01 00:00:04 UTC       view     1004237  2053013555631882655   \n",
       "\n",
       "                         category_code     brand    price    user_id  \\\n",
       "0                                  NaN  shiseido    35.79  541312140   \n",
       "1  appliances.environment.water_heater      aqua    33.20  554748717   \n",
       "2           furniture.living_room.sofa       NaN   543.10  519107250   \n",
       "3                   computers.notebook    lenovo   251.74  550050854   \n",
       "4               electronics.smartphone     apple 1,081.98  535871217   \n",
       "\n",
       "                           user_session  \n",
       "0  72d76fde-8bb3-4e00-8c23-a032dfed738c  \n",
       "1  9333dfbd-b87a-4708-9857-6336556b0fcc  \n",
       "2  566511c2-e2e3-422b-b695-cf8e6e792ca8  \n",
       "3  7c90fc70-0e80-4590-96f3-13c02c18c713  \n",
       "4  c6bd7419-2748-4c56-95b4-8cec9ff8b80d  "
      ]
     },
     "execution_count": 317,
     "metadata": {},
     "output_type": "execute_result"
    }
   ],
   "source": [
    "df.head()"
   ]
  },
  {
   "cell_type": "markdown",
   "metadata": {},
   "source": [
    "## Explore dataset"
   ]
  },
  {
   "cell_type": "code",
   "execution_count": 318,
   "metadata": {
    "pycharm": {
     "is_executing": true,
     "name": "#%%\n"
    }
   },
   "outputs": [
    {
     "name": "stdout",
     "output_type": "stream",
     "text": [
      "<class 'pandas.core.frame.DataFrame'>\n",
      "RangeIndex: 42448764 entries, 0 to 42448763\n",
      "Data columns (total 9 columns):\n",
      " #   Column         Dtype  \n",
      "---  ------         -----  \n",
      " 0   event_time     object \n",
      " 1   event_type     object \n",
      " 2   product_id     int64  \n",
      " 3   category_id    int64  \n",
      " 4   category_code  object \n",
      " 5   brand          object \n",
      " 6   price          float64\n",
      " 7   user_id        int64  \n",
      " 8   user_session   object \n",
      "dtypes: float64(1), int64(3), object(5)\n",
      "memory usage: 2.8+ GB\n"
     ]
    }
   ],
   "source": [
    "df.info()"
   ]
  },
  {
   "cell_type": "code",
   "execution_count": 319,
   "metadata": {
    "pycharm": {
     "is_executing": true,
     "name": "#%%\n"
    }
   },
   "outputs": [
    {
     "name": "stdout",
     "output_type": "stream",
     "text": [
      "42448764 columns and 9 rows\n"
     ]
    }
   ],
   "source": [
    "df.shape\n",
    "print(f'{df.shape[0]} columns and {df.shape[1]} rows')"
   ]
  },
  {
   "cell_type": "code",
   "execution_count": 320,
   "metadata": {
    "pycharm": {
     "is_executing": true,
     "name": "#%%\n"
    }
   },
   "outputs": [
    {
     "name": "stdout",
     "output_type": "stream",
     "text": [
      "event_time              0\n",
      "event_type              0\n",
      "product_id              0\n",
      "category_id             0\n",
      "category_code    13515609\n",
      "brand             6117080\n",
      "price                   0\n",
      "user_id                 0\n",
      "user_session            2\n",
      "dtype: int64\n",
      "Total number of null values: 19632691\n"
     ]
    }
   ],
   "source": [
    "# Null values\n",
    "null_values = df.isnull().sum()\n",
    "print(null_values)\n",
    "\n",
    "print(f'Total number of null values: {null_values.sum()}')"
   ]
  },
  {
   "cell_type": "code",
   "execution_count": 321,
   "metadata": {
    "pycharm": {
     "is_executing": true,
     "name": "#%%\n"
    }
   },
   "outputs": [
    {
     "name": "stdout",
     "output_type": "stream",
     "text": [
      "event_time      0.00\n",
      "event_type      0.00\n",
      "product_id      0.00\n",
      "category_id     0.00\n",
      "category_code   0.32\n",
      "brand           0.14\n",
      "price           0.00\n",
      "user_id         0.00\n",
      "user_session    0.00\n",
      "dtype: float64\n"
     ]
    }
   ],
   "source": [
    "#Null Values percentages\n",
    "print(df.isna().mean())"
   ]
  },
  {
   "cell_type": "code",
   "execution_count": 15,
   "metadata": {
    "pycharm": {
     "is_executing": true,
     "name": "#%%\n"
    }
   },
   "outputs": [
    {
     "name": "stdout",
     "output_type": "stream",
     "text": [
      "event_time        object\n",
      "event_type        object\n",
      "product_id         int64\n",
      "category_id        int64\n",
      "category_code     object\n",
      "brand             object\n",
      "price            float64\n",
      "user_id            int64\n",
      "user_session      object\n",
      "dtype: object\n"
     ]
    }
   ],
   "source": [
    "# Data types\n",
    "print(df.dtypes)"
   ]
  },
  {
   "cell_type": "code",
   "execution_count": 323,
   "metadata": {
    "pycharm": {
     "is_executing": true,
     "name": "#%%\n"
    }
   },
   "outputs": [
    {
     "name": "stdout",
     "output_type": "stream",
     "text": [
      "                    count                         mean  \\\n",
      "product_id  42,448,764.00                10,549,932.38   \n",
      "category_id 42,448,764.00 2,057,404,238,504,413,952.00   \n",
      "price       42,448,764.00                       290.32   \n",
      "user_id     42,448,764.00               533,537,147.51   \n",
      "\n",
      "                                  std                          min  \\\n",
      "product_id              11,881,906.97                 1,000,978.00   \n",
      "category_id 18,439,264,662,054,096.00 2,053,013,552,226,107,648.00   \n",
      "price                          358.27                         0.00   \n",
      "user_id                 18,523,738.17                33,869,381.00   \n",
      "\n",
      "                                     25%                          50%  \\\n",
      "product_id                  1,005,157.00                 5,000,470.00   \n",
      "category_id 2,053,013,555,464,110,592.00 2,053,013,555,631,882,752.00   \n",
      "price                              65.98                       162.93   \n",
      "user_id                   515,904,318.00               529,696,452.00   \n",
      "\n",
      "                                     75%                          max  \n",
      "product_id                 16,000,305.00                60,500,010.00  \n",
      "category_id 2,053,013,563,424,899,840.00 2,175,419,595,093,967,616.00  \n",
      "price                             358.57                     2,574.07  \n",
      "user_id                   551,578,838.25               566,280,860.00  \n"
     ]
    }
   ],
   "source": [
    "# Statistics on all numerical variables\n",
    "print(df.describe().transpose())"
   ]
  },
  {
   "cell_type": "code",
   "execution_count": 324,
   "metadata": {
    "collapsed": true,
    "pycharm": {
     "is_executing": true,
     "name": "#%%\n"
    }
   },
   "outputs": [],
   "source": [
    "# Convert data types to have only \"price\" as numerical\n",
    "df = df.astype({\"event_type\": 'category', \n",
    "                \"product_id\": 'category',\n",
    "                \"category_id\": 'category', \n",
    "                \"category_code\": 'category', \n",
    "                \"brand\": 'category',\n",
    "                \"user_id\": 'category', \n",
    "                \"user_session\": 'category'\n",
    "})"
   ]
  },
  {
   "cell_type": "code",
   "execution_count": 325,
   "metadata": {},
   "outputs": [
    {
     "data": {
      "text/plain": [
       "['view', 'purchase', 'cart']\n",
       "Categories (3, object): ['view', 'purchase', 'cart']"
      ]
     },
     "execution_count": 325,
     "metadata": {},
     "output_type": "execute_result"
    }
   ],
   "source": [
    "# Check the tipologies of events\n",
    "df['event_type'].unique()"
   ]
  },
  {
   "cell_type": "code",
   "execution_count": 326,
   "metadata": {
    "collapsed": true,
    "pycharm": {
     "is_executing": true,
     "name": "#%%\n"
    }
   },
   "outputs": [],
   "source": [
    "# Tranform event_time into datetime, and remove the '+00' (there are no time zone differences)\n",
    "df['event_time'] = pd.to_datetime(df['event_time']).dt.tz_convert(None)"
   ]
  },
  {
   "cell_type": "code",
   "execution_count": 327,
   "metadata": {
    "pycharm": {
     "is_executing": true,
     "name": "#%%\n"
    }
   },
   "outputs": [
    {
     "name": "stdout",
     "output_type": "stream",
     "text": [
      "event_time       datetime64[ns]\n",
      "event_type             category\n",
      "product_id             category\n",
      "category_id            category\n",
      "category_code          category\n",
      "brand                  category\n",
      "price                   float64\n",
      "user_id                category\n",
      "user_session           category\n",
      "dtype: object\n"
     ]
    }
   ],
   "source": [
    "# Check data types again\n",
    "print(df.dtypes)"
   ]
  },
  {
   "cell_type": "code",
   "execution_count": 328,
   "metadata": {
    "pycharm": {
     "is_executing": true,
     "name": "#%%\n"
    }
   },
   "outputs": [
    {
     "name": "stdout",
     "output_type": "stream",
     "text": [
      "              count   mean    std  min   25%    50%    75%      max\n",
      "price 42,448,764.00 290.32 358.27 0.00 65.98 162.93 358.57 2,574.07\n"
     ]
    }
   ],
   "source": [
    "# Now we only get statistics for the price\n",
    "print(df.describe().transpose())"
   ]
  },
  {
   "cell_type": "code",
   "execution_count": 329,
   "metadata": {
    "pycharm": {
     "is_executing": true,
     "name": "#%%\n"
    }
   },
   "outputs": [
    {
     "data": {
      "text/html": [
       "<div>\n",
       "<style scoped>\n",
       "    .dataframe tbody tr th:only-of-type {\n",
       "        vertical-align: middle;\n",
       "    }\n",
       "\n",
       "    .dataframe tbody tr th {\n",
       "        vertical-align: top;\n",
       "    }\n",
       "\n",
       "    .dataframe thead th {\n",
       "        text-align: right;\n",
       "    }\n",
       "</style>\n",
       "<table border=\"1\" class=\"dataframe\">\n",
       "  <thead>\n",
       "    <tr style=\"text-align: right;\">\n",
       "      <th></th>\n",
       "      <th>event_time</th>\n",
       "      <th>event_type</th>\n",
       "      <th>product_id</th>\n",
       "      <th>category_id</th>\n",
       "      <th>category_code</th>\n",
       "      <th>brand</th>\n",
       "      <th>price</th>\n",
       "      <th>user_id</th>\n",
       "      <th>user_session</th>\n",
       "    </tr>\n",
       "  </thead>\n",
       "  <tbody>\n",
       "    <tr>\n",
       "      <th>0</th>\n",
       "      <td>2019-10-01 00:00:00</td>\n",
       "      <td>view</td>\n",
       "      <td>44600062</td>\n",
       "      <td>2103807459595387724</td>\n",
       "      <td>NaN</td>\n",
       "      <td>shiseido</td>\n",
       "      <td>35.79</td>\n",
       "      <td>541312140</td>\n",
       "      <td>72d76fde-8bb3-4e00-8c23-a032dfed738c</td>\n",
       "    </tr>\n",
       "    <tr>\n",
       "      <th>1</th>\n",
       "      <td>2019-10-01 00:00:00</td>\n",
       "      <td>view</td>\n",
       "      <td>3900821</td>\n",
       "      <td>2053013552326770905</td>\n",
       "      <td>appliances.environment.water_heater</td>\n",
       "      <td>aqua</td>\n",
       "      <td>33.20</td>\n",
       "      <td>554748717</td>\n",
       "      <td>9333dfbd-b87a-4708-9857-6336556b0fcc</td>\n",
       "    </tr>\n",
       "    <tr>\n",
       "      <th>2</th>\n",
       "      <td>2019-10-01 00:00:01</td>\n",
       "      <td>view</td>\n",
       "      <td>17200506</td>\n",
       "      <td>2053013559792632471</td>\n",
       "      <td>furniture.living_room.sofa</td>\n",
       "      <td>NaN</td>\n",
       "      <td>543.10</td>\n",
       "      <td>519107250</td>\n",
       "      <td>566511c2-e2e3-422b-b695-cf8e6e792ca8</td>\n",
       "    </tr>\n",
       "  </tbody>\n",
       "</table>\n",
       "</div>"
      ],
      "text/plain": [
       "           event_time event_type product_id          category_id  \\\n",
       "0 2019-10-01 00:00:00       view   44600062  2103807459595387724   \n",
       "1 2019-10-01 00:00:00       view    3900821  2053013552326770905   \n",
       "2 2019-10-01 00:00:01       view   17200506  2053013559792632471   \n",
       "\n",
       "                         category_code     brand  price    user_id  \\\n",
       "0                                  NaN  shiseido  35.79  541312140   \n",
       "1  appliances.environment.water_heater      aqua  33.20  554748717   \n",
       "2           furniture.living_room.sofa       NaN 543.10  519107250   \n",
       "\n",
       "                           user_session  \n",
       "0  72d76fde-8bb3-4e00-8c23-a032dfed738c  \n",
       "1  9333dfbd-b87a-4708-9857-6336556b0fcc  \n",
       "2  566511c2-e2e3-422b-b695-cf8e6e792ca8  "
      ]
     },
     "execution_count": 329,
     "metadata": {},
     "output_type": "execute_result"
    }
   ],
   "source": [
    "df.head(3)"
   ]
  },
  {
   "cell_type": "markdown",
   "metadata": {},
   "source": [
    "### Events type"
   ]
  },
  {
   "cell_type": "code",
   "execution_count": 330,
   "metadata": {},
   "outputs": [
    {
     "data": {
      "text/plain": [
       "event_type\n",
       "view        40779399\n",
       "cart          926516\n",
       "purchase      742849\n",
       "Name: event_type, dtype: int64"
      ]
     },
     "execution_count": 330,
     "metadata": {},
     "output_type": "execute_result"
    }
   ],
   "source": [
    "# Check how many records there are per each event_type\n",
    "df.groupby(\"event_type\")[\"event_type\"].count().sort_values(ascending=False)"
   ]
  },
  {
   "cell_type": "code",
   "execution_count": 331,
   "metadata": {},
   "outputs": [
    {
     "data": {
      "image/png": "[encoded data removed]",
      "text/plain": [
       "<Figure size 1008x432 with 2 Axes>"
      ]
     },
     "metadata": {},
     "output_type": "display_data"
    }
   ],
   "source": [
    "colors = ['orange', 'lightblue','red']\n",
    "explode = [0, 0.2,0.1]\n",
    "\n",
    "fig, ax = plt.subplots(nrows=1, ncols=2, figsize=(14, 6))\n",
    "\n",
    "ax[0].bar(df[\"event_type\"].value_counts().index,df[\"event_type\"].value_counts().values,color = colors)\n",
    "ax[1].pie(df[\"event_type\"].value_counts().values, colors = colors, explode = explode, shadow = True, autopct = '%.2f%%')\n",
    "ax[1].legend(df[\"event_type\"].value_counts().index)\n",
    "plt.show()"
   ]
  },
  {
   "cell_type": "markdown",
   "metadata": {},
   "source": [
    "### Categories"
   ]
  },
  {
   "cell_type": "code",
   "execution_count": 332,
   "metadata": {
    "collapsed": true
   },
   "outputs": [],
   "source": [
    "#Considering how categories and subcategories are expressed in the original dataset (separated by a point), \n",
    "#I define a function to separate the two, when a category is given as an input\n",
    "\n",
    "def category_extraction (categ, level=0):\n",
    "    \n",
    "    output = categ.split('.')[level]\n",
    "    return output"
   ]
  },
  {
   "cell_type": "code",
   "execution_count": 333,
   "metadata": {},
   "outputs": [
    {
     "name": "stdout",
     "output_type": "stream",
     "text": [
      "Total number of rows:42,448,764\n",
      "--------------------------------------------------\n",
      "Total number of visits:9,244,421\n",
      "--------------------------------------------------\n",
      "Total number of visitors:3,022,290\n",
      "--------------------------------------------------\n",
      "Total number of categories:13\n",
      "--------------------------------------------------\n",
      "Total number of subcategories:57\n",
      "--------------------------------------------------\n",
      "Total number of brands:3,444\n",
      "--------------------------------------------------\n",
      "Total number of products:166,794\n"
     ]
    }
   ],
   "source": [
    "#Create 2 new columns to split categ. and sub-categ.\n",
    "df['category'] = df['category_code'].apply(category_extraction, level=0)\n",
    "df['subcategory'] = df['category_code'].apply(category_extraction, level=1)\n",
    "\n",
    "#Extract some new information from the original dataset\n",
    "Total_rows = df.shape[0]\n",
    "print('Total number of rows:{:,.0f}'.format(Total_rows))\n",
    "print('-'*50)\n",
    "Total_visits = df['user_session'].nunique()\n",
    "print('Total number of visits:{:,.0f}'.format(Total_visits))\n",
    "print('-'*50)\n",
    "Total_visitors = df['user_id'].nunique()\n",
    "print('Total number of visitors:{:,.0f}'.format(Total_visitors))\n",
    "print('-'*50)\n",
    "Total_categories = df['category'].nunique()\n",
    "print('Total number of categories:{:,.0f}'.format(Total_categories))\n",
    "print('-'*50)\n",
    "Total_subcategories = df['subcategory'].nunique()\n",
    "print('Total number of subcategories:{:,.0f}'.format(Total_subcategories))\n",
    "print('-'*50)\n",
    "Total_brands = df['brand'].nunique()\n",
    "print('Total number of brands:{:,.0f}'.format(Total_brands))\n",
    "print('-'*50)\n",
    "Total_products = df['product_id'].nunique()\n",
    "print('Total number of products:{:,.0f}'.format(Total_products))"
   ]
  },
  {
   "cell_type": "code",
   "execution_count": 334,
   "metadata": {
    "collapsed": true
   },
   "outputs": [],
   "source": [
    "#At this point we can drop the category_code column\n",
    "df = df.drop(columns=['category_code'])"
   ]
  },
  {
   "cell_type": "markdown",
   "metadata": {},
   "source": [
    "## Analysis"
   ]
  },
  {
   "cell_type": "markdown",
   "metadata": {},
   "source": [
    "#### Analyse daily activity"
   ]
  },
  {
   "cell_type": "code",
   "execution_count": 335,
   "metadata": {
    "collapsed": true,
    "pycharm": {
     "is_executing": true,
     "name": "#%%\n"
    }
   },
   "outputs": [],
   "source": [
    "# Daily visits\n",
    "\n",
    "daily_table = df.groupby(\n",
    "    by=[df['event_time'].dt.normalize()]).agg(             #dt.normalize in order to take away the time, and be left with day\n",
    "    daily_visits=('user_session', lambda x: x.nunique()),  #Add 2 new columns to count non-null and unique user sessions and id\n",
    "    daily_visitors=('user_id', lambda x: x.nunique())\n",
    ")\n",
    "\n",
    "# Daily sales\n",
    "sales_filter = df['event_type'] == 'purchase'                                        #Consider only purchase events\n",
    "sales = df.loc[sales_filter].groupby(by=[df['event_time'].dt.normalize()]).agg(\n",
    "    number_daily_sales=('event_type', 'count'),\n",
    "    total_daily_sales=('price', 'sum')\n",
    ").reset_index()\n",
    "\n",
    "# New table\n",
    "daily_table = pd.merge(left=daily_table,              # put the 2 above tables together\n",
    "                               right=sales,\n",
    "                               left_on=['event_time'],\n",
    "                               right_on=['event_time'],\n",
    "                               how='left')\n",
    "\n",
    "daily_table['conversions_percentage'] = daily_table['number_daily_sales'] / daily_table[\n",
    "    'daily_visits']"
   ]
  },
  {
   "cell_type": "code",
   "execution_count": 336,
   "metadata": {
    "pycharm": {
     "is_executing": true,
     "name": "#%%\n"
    }
   },
   "outputs": [
    {
     "data": {
      "text/html": [
       "<div>\n",
       "<style scoped>\n",
       "    .dataframe tbody tr th:only-of-type {\n",
       "        vertical-align: middle;\n",
       "    }\n",
       "\n",
       "    .dataframe tbody tr th {\n",
       "        vertical-align: top;\n",
       "    }\n",
       "\n",
       "    .dataframe thead th {\n",
       "        text-align: right;\n",
       "    }\n",
       "</style>\n",
       "<table border=\"1\" class=\"dataframe\">\n",
       "  <thead>\n",
       "    <tr style=\"text-align: right;\">\n",
       "      <th></th>\n",
       "      <th>event_time</th>\n",
       "      <th>daily_visits</th>\n",
       "      <th>daily_visitors</th>\n",
       "      <th>number_daily_sales</th>\n",
       "      <th>total_daily_sales</th>\n",
       "      <th>conversions_percentage</th>\n",
       "    </tr>\n",
       "  </thead>\n",
       "  <tbody>\n",
       "    <tr>\n",
       "      <th>0</th>\n",
       "      <td>2019-10-01</td>\n",
       "      <td>268737</td>\n",
       "      <td>190188</td>\n",
       "      <td>19307</td>\n",
       "      <td>6,275,964.01</td>\n",
       "      <td>0.07</td>\n",
       "    </tr>\n",
       "    <tr>\n",
       "      <th>1</th>\n",
       "      <td>2019-10-02</td>\n",
       "      <td>261252</td>\n",
       "      <td>184965</td>\n",
       "      <td>19469</td>\n",
       "      <td>6,213,628.53</td>\n",
       "      <td>0.07</td>\n",
       "    </tr>\n",
       "    <tr>\n",
       "      <th>2</th>\n",
       "      <td>2019-10-03</td>\n",
       "      <td>241086</td>\n",
       "      <td>170668</td>\n",
       "      <td>19255</td>\n",
       "      <td>6,233,782.98</td>\n",
       "      <td>0.08</td>\n",
       "    </tr>\n",
       "    <tr>\n",
       "      <th>3</th>\n",
       "      <td>2019-10-04</td>\n",
       "      <td>300651</td>\n",
       "      <td>209410</td>\n",
       "      <td>27041</td>\n",
       "      <td>8,623,684.47</td>\n",
       "      <td>0.09</td>\n",
       "    </tr>\n",
       "    <tr>\n",
       "      <th>4</th>\n",
       "      <td>2019-10-05</td>\n",
       "      <td>276914</td>\n",
       "      <td>194958</td>\n",
       "      <td>23494</td>\n",
       "      <td>7,341,596.91</td>\n",
       "      <td>0.08</td>\n",
       "    </tr>\n",
       "    <tr>\n",
       "      <th>5</th>\n",
       "      <td>2019-10-06</td>\n",
       "      <td>273034</td>\n",
       "      <td>193210</td>\n",
       "      <td>22171</td>\n",
       "      <td>6,737,660.78</td>\n",
       "      <td>0.08</td>\n",
       "    </tr>\n",
       "    <tr>\n",
       "      <th>6</th>\n",
       "      <td>2019-10-07</td>\n",
       "      <td>263437</td>\n",
       "      <td>186951</td>\n",
       "      <td>21378</td>\n",
       "      <td>6,348,189.06</td>\n",
       "      <td>0.08</td>\n",
       "    </tr>\n",
       "    <tr>\n",
       "      <th>7</th>\n",
       "      <td>2019-10-08</td>\n",
       "      <td>308348</td>\n",
       "      <td>221204</td>\n",
       "      <td>23072</td>\n",
       "      <td>6,819,832.28</td>\n",
       "      <td>0.07</td>\n",
       "    </tr>\n",
       "    <tr>\n",
       "      <th>8</th>\n",
       "      <td>2019-10-09</td>\n",
       "      <td>301219</td>\n",
       "      <td>214140</td>\n",
       "      <td>22748</td>\n",
       "      <td>6,855,511.13</td>\n",
       "      <td>0.08</td>\n",
       "    </tr>\n",
       "    <tr>\n",
       "      <th>9</th>\n",
       "      <td>2019-10-10</td>\n",
       "      <td>295142</td>\n",
       "      <td>205321</td>\n",
       "      <td>21993</td>\n",
       "      <td>6,665,600.86</td>\n",
       "      <td>0.07</td>\n",
       "    </tr>\n",
       "    <tr>\n",
       "      <th>10</th>\n",
       "      <td>2019-10-11</td>\n",
       "      <td>333407</td>\n",
       "      <td>230533</td>\n",
       "      <td>26224</td>\n",
       "      <td>7,716,208.55</td>\n",
       "      <td>0.08</td>\n",
       "    </tr>\n",
       "    <tr>\n",
       "      <th>11</th>\n",
       "      <td>2019-10-12</td>\n",
       "      <td>304374</td>\n",
       "      <td>208355</td>\n",
       "      <td>25373</td>\n",
       "      <td>7,307,691.57</td>\n",
       "      <td>0.08</td>\n",
       "    </tr>\n",
       "    <tr>\n",
       "      <th>12</th>\n",
       "      <td>2019-10-13</td>\n",
       "      <td>333508</td>\n",
       "      <td>225942</td>\n",
       "      <td>29561</td>\n",
       "      <td>8,457,606.49</td>\n",
       "      <td>0.09</td>\n",
       "    </tr>\n",
       "    <tr>\n",
       "      <th>13</th>\n",
       "      <td>2019-10-14</td>\n",
       "      <td>307692</td>\n",
       "      <td>209089</td>\n",
       "      <td>28405</td>\n",
       "      <td>9,356,691.65</td>\n",
       "      <td>0.09</td>\n",
       "    </tr>\n",
       "    <tr>\n",
       "      <th>14</th>\n",
       "      <td>2019-10-15</td>\n",
       "      <td>334648</td>\n",
       "      <td>230135</td>\n",
       "      <td>26372</td>\n",
       "      <td>8,653,065.29</td>\n",
       "      <td>0.08</td>\n",
       "    </tr>\n",
       "    <tr>\n",
       "      <th>15</th>\n",
       "      <td>2019-10-16</td>\n",
       "      <td>328743</td>\n",
       "      <td>230199</td>\n",
       "      <td>31394</td>\n",
       "      <td>9,747,239.24</td>\n",
       "      <td>0.10</td>\n",
       "    </tr>\n",
       "    <tr>\n",
       "      <th>16</th>\n",
       "      <td>2019-10-17</td>\n",
       "      <td>302842</td>\n",
       "      <td>208477</td>\n",
       "      <td>28318</td>\n",
       "      <td>9,026,143.14</td>\n",
       "      <td>0.09</td>\n",
       "    </tr>\n",
       "    <tr>\n",
       "      <th>17</th>\n",
       "      <td>2019-10-18</td>\n",
       "      <td>334977</td>\n",
       "      <td>229463</td>\n",
       "      <td>25850</td>\n",
       "      <td>8,155,785.13</td>\n",
       "      <td>0.08</td>\n",
       "    </tr>\n",
       "    <tr>\n",
       "      <th>18</th>\n",
       "      <td>2019-10-19</td>\n",
       "      <td>321300</td>\n",
       "      <td>217920</td>\n",
       "      <td>24657</td>\n",
       "      <td>7,562,479.36</td>\n",
       "      <td>0.08</td>\n",
       "    </tr>\n",
       "    <tr>\n",
       "      <th>19</th>\n",
       "      <td>2019-10-20</td>\n",
       "      <td>339943</td>\n",
       "      <td>231849</td>\n",
       "      <td>25098</td>\n",
       "      <td>7,515,713.04</td>\n",
       "      <td>0.07</td>\n",
       "    </tr>\n",
       "    <tr>\n",
       "      <th>20</th>\n",
       "      <td>2019-10-21</td>\n",
       "      <td>321282</td>\n",
       "      <td>225269</td>\n",
       "      <td>25167</td>\n",
       "      <td>7,862,635.00</td>\n",
       "      <td>0.08</td>\n",
       "    </tr>\n",
       "    <tr>\n",
       "      <th>21</th>\n",
       "      <td>2019-10-22</td>\n",
       "      <td>316706</td>\n",
       "      <td>223384</td>\n",
       "      <td>25385</td>\n",
       "      <td>7,914,693.04</td>\n",
       "      <td>0.08</td>\n",
       "    </tr>\n",
       "    <tr>\n",
       "      <th>22</th>\n",
       "      <td>2019-10-23</td>\n",
       "      <td>310453</td>\n",
       "      <td>219100</td>\n",
       "      <td>24731</td>\n",
       "      <td>7,615,371.54</td>\n",
       "      <td>0.08</td>\n",
       "    </tr>\n",
       "    <tr>\n",
       "      <th>23</th>\n",
       "      <td>2019-10-24</td>\n",
       "      <td>293587</td>\n",
       "      <td>206937</td>\n",
       "      <td>23999</td>\n",
       "      <td>7,470,344.60</td>\n",
       "      <td>0.08</td>\n",
       "    </tr>\n",
       "    <tr>\n",
       "      <th>24</th>\n",
       "      <td>2019-10-25</td>\n",
       "      <td>318055</td>\n",
       "      <td>223258</td>\n",
       "      <td>23929</td>\n",
       "      <td>7,248,617.98</td>\n",
       "      <td>0.08</td>\n",
       "    </tr>\n",
       "    <tr>\n",
       "      <th>25</th>\n",
       "      <td>2019-10-26</td>\n",
       "      <td>289579</td>\n",
       "      <td>202172</td>\n",
       "      <td>22653</td>\n",
       "      <td>6,917,602.84</td>\n",
       "      <td>0.08</td>\n",
       "    </tr>\n",
       "    <tr>\n",
       "      <th>26</th>\n",
       "      <td>2019-10-27</td>\n",
       "      <td>289835</td>\n",
       "      <td>201359</td>\n",
       "      <td>23403</td>\n",
       "      <td>7,198,460.82</td>\n",
       "      <td>0.08</td>\n",
       "    </tr>\n",
       "    <tr>\n",
       "      <th>27</th>\n",
       "      <td>2019-10-28</td>\n",
       "      <td>281001</td>\n",
       "      <td>195563</td>\n",
       "      <td>21112</td>\n",
       "      <td>6,591,728.24</td>\n",
       "      <td>0.08</td>\n",
       "    </tr>\n",
       "    <tr>\n",
       "      <th>28</th>\n",
       "      <td>2019-10-29</td>\n",
       "      <td>276723</td>\n",
       "      <td>193168</td>\n",
       "      <td>20374</td>\n",
       "      <td>6,433,438.43</td>\n",
       "      <td>0.07</td>\n",
       "    </tr>\n",
       "    <tr>\n",
       "      <th>29</th>\n",
       "      <td>2019-10-30</td>\n",
       "      <td>274906</td>\n",
       "      <td>191965</td>\n",
       "      <td>20817</td>\n",
       "      <td>6,634,069.51</td>\n",
       "      <td>0.08</td>\n",
       "    </tr>\n",
       "    <tr>\n",
       "      <th>30</th>\n",
       "      <td>2019-10-31</td>\n",
       "      <td>281446</td>\n",
       "      <td>198571</td>\n",
       "      <td>20099</td>\n",
       "      <td>6,456,465.80</td>\n",
       "      <td>0.07</td>\n",
       "    </tr>\n",
       "  </tbody>\n",
       "</table>\n",
       "</div>"
      ],
      "text/plain": [
       "   event_time  daily_visits  daily_visitors  number_daily_sales  \\\n",
       "0  2019-10-01        268737          190188               19307   \n",
       "1  2019-10-02        261252          184965               19469   \n",
       "2  2019-10-03        241086          170668               19255   \n",
       "3  2019-10-04        300651          209410               27041   \n",
       "4  2019-10-05        276914          194958               23494   \n",
       "5  2019-10-06        273034          193210               22171   \n",
       "6  2019-10-07        263437          186951               21378   \n",
       "7  2019-10-08        308348          221204               23072   \n",
       "8  2019-10-09        301219          214140               22748   \n",
       "9  2019-10-10        295142          205321               21993   \n",
       "10 2019-10-11        333407          230533               26224   \n",
       "11 2019-10-12        304374          208355               25373   \n",
       "12 2019-10-13        333508          225942               29561   \n",
       "13 2019-10-14        307692          209089               28405   \n",
       "14 2019-10-15        334648          230135               26372   \n",
       "15 2019-10-16        328743          230199               31394   \n",
       "16 2019-10-17        302842          208477               28318   \n",
       "17 2019-10-18        334977          229463               25850   \n",
       "18 2019-10-19        321300          217920               24657   \n",
       "19 2019-10-20        339943          231849               25098   \n",
       "20 2019-10-21        321282          225269               25167   \n",
       "21 2019-10-22        316706          223384               25385   \n",
       "22 2019-10-23        310453          219100               24731   \n",
       "23 2019-10-24        293587          206937               23999   \n",
       "24 2019-10-25        318055          223258               23929   \n",
       "25 2019-10-26        289579          202172               22653   \n",
       "26 2019-10-27        289835          201359               23403   \n",
       "27 2019-10-28        281001          195563               21112   \n",
       "28 2019-10-29        276723          193168               20374   \n",
       "29 2019-10-30        274906          191965               20817   \n",
       "30 2019-10-31        281446          198571               20099   \n",
       "\n",
       "    total_daily_sales  conversions_percentage  \n",
       "0        6,275,964.01                    0.07  \n",
       "1        6,213,628.53                    0.07  \n",
       "2        6,233,782.98                    0.08  \n",
       "3        8,623,684.47                    0.09  \n",
       "4        7,341,596.91                    0.08  \n",
       "5        6,737,660.78                    0.08  \n",
       "6        6,348,189.06                    0.08  \n",
       "7        6,819,832.28                    0.07  \n",
       "8        6,855,511.13                    0.08  \n",
       "9        6,665,600.86                    0.07  \n",
       "10       7,716,208.55                    0.08  \n",
       "11       7,307,691.57                    0.08  \n",
       "12       8,457,606.49                    0.09  \n",
       "13       9,356,691.65                    0.09  \n",
       "14       8,653,065.29                    0.08  \n",
       "15       9,747,239.24                    0.10  \n",
       "16       9,026,143.14                    0.09  \n",
       "17       8,155,785.13                    0.08  \n",
       "18       7,562,479.36                    0.08  \n",
       "19       7,515,713.04                    0.07  \n",
       "20       7,862,635.00                    0.08  \n",
       "21       7,914,693.04                    0.08  \n",
       "22       7,615,371.54                    0.08  \n",
       "23       7,470,344.60                    0.08  \n",
       "24       7,248,617.98                    0.08  \n",
       "25       6,917,602.84                    0.08  \n",
       "26       7,198,460.82                    0.08  \n",
       "27       6,591,728.24                    0.08  \n",
       "28       6,433,438.43                    0.07  \n",
       "29       6,634,069.51                    0.08  \n",
       "30       6,456,465.80                    0.07  "
      ]
     },
     "execution_count": 336,
     "metadata": {},
     "output_type": "execute_result"
    }
   ],
   "source": [
    "daily_table"
   ]
  },
  {
   "cell_type": "code",
   "execution_count": 337,
   "metadata": {
    "pycharm": {
     "is_executing": true,
     "name": "#%%\n"
    },
    "scrolled": true
   },
   "outputs": [
    {
     "data": {
      "text/html": [
       "<div>\n",
       "<style scoped>\n",
       "    .dataframe tbody tr th:only-of-type {\n",
       "        vertical-align: middle;\n",
       "    }\n",
       "\n",
       "    .dataframe tbody tr th {\n",
       "        vertical-align: top;\n",
       "    }\n",
       "\n",
       "    .dataframe thead th {\n",
       "        text-align: right;\n",
       "    }\n",
       "</style>\n",
       "<table border=\"1\" class=\"dataframe\">\n",
       "  <thead>\n",
       "    <tr style=\"text-align: right;\">\n",
       "      <th></th>\n",
       "      <th>count</th>\n",
       "      <th>mean</th>\n",
       "      <th>std</th>\n",
       "      <th>min</th>\n",
       "      <th>25%</th>\n",
       "      <th>50%</th>\n",
       "      <th>75%</th>\n",
       "      <th>max</th>\n",
       "    </tr>\n",
       "    <tr>\n",
       "      <th>event_time</th>\n",
       "      <th></th>\n",
       "      <th></th>\n",
       "      <th></th>\n",
       "      <th></th>\n",
       "      <th></th>\n",
       "      <th></th>\n",
       "      <th></th>\n",
       "      <th></th>\n",
       "    </tr>\n",
       "  </thead>\n",
       "  <tbody>\n",
       "    <tr>\n",
       "      <th>Monday</th>\n",
       "      <td>4.00</td>\n",
       "      <td>293,353.00</td>\n",
       "      <td>26,033.15</td>\n",
       "      <td>263,437.00</td>\n",
       "      <td>276,610.00</td>\n",
       "      <td>294,346.50</td>\n",
       "      <td>311,089.50</td>\n",
       "      <td>321,282.00</td>\n",
       "    </tr>\n",
       "    <tr>\n",
       "      <th>Tuesday</th>\n",
       "      <td>5.00</td>\n",
       "      <td>301,032.40</td>\n",
       "      <td>27,672.77</td>\n",
       "      <td>268,737.00</td>\n",
       "      <td>276,723.00</td>\n",
       "      <td>308,348.00</td>\n",
       "      <td>316,706.00</td>\n",
       "      <td>334,648.00</td>\n",
       "    </tr>\n",
       "    <tr>\n",
       "      <th>Wednesday</th>\n",
       "      <td>5.00</td>\n",
       "      <td>295,314.60</td>\n",
       "      <td>27,194.96</td>\n",
       "      <td>261,252.00</td>\n",
       "      <td>274,906.00</td>\n",
       "      <td>301,219.00</td>\n",
       "      <td>310,453.00</td>\n",
       "      <td>328,743.00</td>\n",
       "    </tr>\n",
       "    <tr>\n",
       "      <th>Thursday</th>\n",
       "      <td>5.00</td>\n",
       "      <td>282,820.60</td>\n",
       "      <td>24,557.36</td>\n",
       "      <td>241,086.00</td>\n",
       "      <td>281,446.00</td>\n",
       "      <td>293,587.00</td>\n",
       "      <td>295,142.00</td>\n",
       "      <td>302,842.00</td>\n",
       "    </tr>\n",
       "    <tr>\n",
       "      <th>Friday</th>\n",
       "      <td>4.00</td>\n",
       "      <td>321,772.50</td>\n",
       "      <td>16,017.26</td>\n",
       "      <td>300,651.00</td>\n",
       "      <td>313,704.00</td>\n",
       "      <td>325,731.00</td>\n",
       "      <td>333,799.50</td>\n",
       "      <td>334,977.00</td>\n",
       "    </tr>\n",
       "    <tr>\n",
       "      <th>Saturday</th>\n",
       "      <td>4.00</td>\n",
       "      <td>298,041.75</td>\n",
       "      <td>19,140.22</td>\n",
       "      <td>276,914.00</td>\n",
       "      <td>286,412.75</td>\n",
       "      <td>296,976.50</td>\n",
       "      <td>308,605.50</td>\n",
       "      <td>321,300.00</td>\n",
       "    </tr>\n",
       "    <tr>\n",
       "      <th>Sunday</th>\n",
       "      <td>4.00</td>\n",
       "      <td>309,080.00</td>\n",
       "      <td>32,756.35</td>\n",
       "      <td>273,034.00</td>\n",
       "      <td>285,634.75</td>\n",
       "      <td>311,671.50</td>\n",
       "      <td>335,116.75</td>\n",
       "      <td>339,943.00</td>\n",
       "    </tr>\n",
       "  </tbody>\n",
       "</table>\n",
       "</div>"
      ],
      "text/plain": [
       "            count       mean       std        min        25%        50%  \\\n",
       "event_time                                                                \n",
       "Monday       4.00 293,353.00 26,033.15 263,437.00 276,610.00 294,346.50   \n",
       "Tuesday      5.00 301,032.40 27,672.77 268,737.00 276,723.00 308,348.00   \n",
       "Wednesday    5.00 295,314.60 27,194.96 261,252.00 274,906.00 301,219.00   \n",
       "Thursday     5.00 282,820.60 24,557.36 241,086.00 281,446.00 293,587.00   \n",
       "Friday       4.00 321,772.50 16,017.26 300,651.00 313,704.00 325,731.00   \n",
       "Saturday     4.00 298,041.75 19,140.22 276,914.00 286,412.75 296,976.50   \n",
       "Sunday       4.00 309,080.00 32,756.35 273,034.00 285,634.75 311,671.50   \n",
       "\n",
       "                  75%        max  \n",
       "event_time                        \n",
       "Monday     311,089.50 321,282.00  \n",
       "Tuesday    316,706.00 334,648.00  \n",
       "Wednesday  310,453.00 328,743.00  \n",
       "Thursday   295,142.00 302,842.00  \n",
       "Friday     333,799.50 334,977.00  \n",
       "Saturday   308,605.50 321,300.00  \n",
       "Sunday     335,116.75 339,943.00  "
      ]
     },
     "execution_count": 337,
     "metadata": {},
     "output_type": "execute_result"
    }
   ],
   "source": [
    "#Daily statistics for the visits\n",
    "\n",
    "Stats = pd.DataFrame(daily_table.groupby(by=daily_table['event_time'].dt.day_name())['daily_visits'].describe())\n",
    "days = [ 'Monday', 'Tuesday', 'Wednesday', 'Thursday', 'Friday', 'Saturday', 'Sunday'] #To re-order the days \n",
    "Stats.reindex(days)"
   ]
  },
  {
   "cell_type": "code",
   "execution_count": 338,
   "metadata": {
    "pycharm": {
     "is_executing": true,
     "name": "#%%\n"
    },
    "scrolled": true
   },
   "outputs": [
    {
     "data": {
      "image/png": "[encoded data removed]",
      "text/plain": [
       "<Figure size 1296x648 with 2 Axes>"
      ]
     },
     "metadata": {},
     "output_type": "display_data"
    }
   ],
   "source": [
    "#Plot daily visits\n",
    "\n",
    "fig = plt.figure(figsize=(18, 9))\n",
    "\n",
    "ax1 = fig.add_subplot(2, 1, 1)\n",
    "sns.barplot(x=daily_table['event_time'].dt.date, y='daily_visits', data=daily_table, ax=ax1)\n",
    "plt.xticks(rotation=90)\n",
    "plt.title('Daily number of visits',fontsize=12)\n",
    "plt.ylabel('Number of visits',fontsize=12)\n",
    "plt.xlabel('Date',fontsize=12)\n",
    "\n",
    "ax2 = fig.add_subplot(2, 1, 2)\n",
    "sns.boxplot(x=daily_table['event_time'].dt.day_name(), y='daily_visits', data=daily_table, ax=ax2)\n",
    "plt.title('Number of visits each day',fontsize=12)\n",
    "plt.ylabel('Number of visits',fontsize=12)\n",
    "plt.xlabel('Days',fontsize=12)\n",
    "fig.tight_layout(pad=3.5)"
   ]
  },
  {
   "cell_type": "code",
   "execution_count": 339,
   "metadata": {
    "pycharm": {
     "is_executing": true,
     "name": "#%%\n"
    }
   },
   "outputs": [
    {
     "data": {
      "text/html": [
       "<div>\n",
       "<style scoped>\n",
       "    .dataframe tbody tr th:only-of-type {\n",
       "        vertical-align: middle;\n",
       "    }\n",
       "\n",
       "    .dataframe tbody tr th {\n",
       "        vertical-align: top;\n",
       "    }\n",
       "\n",
       "    .dataframe thead th {\n",
       "        text-align: right;\n",
       "    }\n",
       "</style>\n",
       "<table border=\"1\" class=\"dataframe\">\n",
       "  <thead>\n",
       "    <tr style=\"text-align: right;\">\n",
       "      <th></th>\n",
       "      <th>count</th>\n",
       "      <th>mean</th>\n",
       "      <th>std</th>\n",
       "      <th>min</th>\n",
       "      <th>25%</th>\n",
       "      <th>50%</th>\n",
       "      <th>75%</th>\n",
       "      <th>max</th>\n",
       "    </tr>\n",
       "    <tr>\n",
       "      <th>event_time</th>\n",
       "      <th></th>\n",
       "      <th></th>\n",
       "      <th></th>\n",
       "      <th></th>\n",
       "      <th></th>\n",
       "      <th></th>\n",
       "      <th></th>\n",
       "      <th></th>\n",
       "    </tr>\n",
       "  </thead>\n",
       "  <tbody>\n",
       "    <tr>\n",
       "      <th>Monday</th>\n",
       "      <td>4.00</td>\n",
       "      <td>204,218.00</td>\n",
       "      <td>16,732.50</td>\n",
       "      <td>186,951.00</td>\n",
       "      <td>193,410.00</td>\n",
       "      <td>202,326.00</td>\n",
       "      <td>213,134.00</td>\n",
       "      <td>225,269.00</td>\n",
       "    </tr>\n",
       "    <tr>\n",
       "      <th>Tuesday</th>\n",
       "      <td>5.00</td>\n",
       "      <td>211,615.80</td>\n",
       "      <td>18,526.04</td>\n",
       "      <td>190,188.00</td>\n",
       "      <td>193,168.00</td>\n",
       "      <td>221,204.00</td>\n",
       "      <td>223,384.00</td>\n",
       "      <td>230,135.00</td>\n",
       "    </tr>\n",
       "    <tr>\n",
       "      <th>Wednesday</th>\n",
       "      <td>5.00</td>\n",
       "      <td>208,073.80</td>\n",
       "      <td>18,982.96</td>\n",
       "      <td>184,965.00</td>\n",
       "      <td>191,965.00</td>\n",
       "      <td>214,140.00</td>\n",
       "      <td>219,100.00</td>\n",
       "      <td>230,199.00</td>\n",
       "    </tr>\n",
       "    <tr>\n",
       "      <th>Thursday</th>\n",
       "      <td>5.00</td>\n",
       "      <td>197,994.80</td>\n",
       "      <td>15,736.89</td>\n",
       "      <td>170,668.00</td>\n",
       "      <td>198,571.00</td>\n",
       "      <td>205,321.00</td>\n",
       "      <td>206,937.00</td>\n",
       "      <td>208,477.00</td>\n",
       "    </tr>\n",
       "    <tr>\n",
       "      <th>Friday</th>\n",
       "      <td>4.00</td>\n",
       "      <td>223,166.00</td>\n",
       "      <td>9,715.30</td>\n",
       "      <td>209,410.00</td>\n",
       "      <td>219,796.00</td>\n",
       "      <td>226,360.50</td>\n",
       "      <td>229,730.50</td>\n",
       "      <td>230,533.00</td>\n",
       "    </tr>\n",
       "    <tr>\n",
       "      <th>Saturday</th>\n",
       "      <td>4.00</td>\n",
       "      <td>205,851.25</td>\n",
       "      <td>9,731.79</td>\n",
       "      <td>194,958.00</td>\n",
       "      <td>200,368.50</td>\n",
       "      <td>205,263.50</td>\n",
       "      <td>210,746.25</td>\n",
       "      <td>217,920.00</td>\n",
       "    </tr>\n",
       "    <tr>\n",
       "      <th>Sunday</th>\n",
       "      <td>4.00</td>\n",
       "      <td>213,090.00</td>\n",
       "      <td>18,707.44</td>\n",
       "      <td>193,210.00</td>\n",
       "      <td>199,321.75</td>\n",
       "      <td>213,650.50</td>\n",
       "      <td>227,418.75</td>\n",
       "      <td>231,849.00</td>\n",
       "    </tr>\n",
       "  </tbody>\n",
       "</table>\n",
       "</div>"
      ],
      "text/plain": [
       "            count       mean       std        min        25%        50%  \\\n",
       "event_time                                                                \n",
       "Monday       4.00 204,218.00 16,732.50 186,951.00 193,410.00 202,326.00   \n",
       "Tuesday      5.00 211,615.80 18,526.04 190,188.00 193,168.00 221,204.00   \n",
       "Wednesday    5.00 208,073.80 18,982.96 184,965.00 191,965.00 214,140.00   \n",
       "Thursday     5.00 197,994.80 15,736.89 170,668.00 198,571.00 205,321.00   \n",
       "Friday       4.00 223,166.00  9,715.30 209,410.00 219,796.00 226,360.50   \n",
       "Saturday     4.00 205,851.25  9,731.79 194,958.00 200,368.50 205,263.50   \n",
       "Sunday       4.00 213,090.00 18,707.44 193,210.00 199,321.75 213,650.50   \n",
       "\n",
       "                  75%        max  \n",
       "event_time                        \n",
       "Monday     213,134.00 225,269.00  \n",
       "Tuesday    223,384.00 230,135.00  \n",
       "Wednesday  219,100.00 230,199.00  \n",
       "Thursday   206,937.00 208,477.00  \n",
       "Friday     229,730.50 230,533.00  \n",
       "Saturday   210,746.25 217,920.00  \n",
       "Sunday     227,418.75 231,849.00  "
      ]
     },
     "execution_count": 339,
     "metadata": {},
     "output_type": "execute_result"
    }
   ],
   "source": [
    "#Daily statistics for the visitors\n",
    "\n",
    "Stats = pd.DataFrame(daily_table.groupby(by=daily_table['event_time'].dt.day_name())['daily_visitors'].describe())\n",
    "days = [ 'Monday', 'Tuesday', 'Wednesday', 'Thursday', 'Friday', 'Saturday', 'Sunday'] #to re-order the days \n",
    "Stats.reindex(days)"
   ]
  },
  {
   "cell_type": "code",
   "execution_count": 340,
   "metadata": {
    "pycharm": {
     "is_executing": true,
     "name": "#%%\n"
    }
   },
   "outputs": [
    {
     "data": {
      "image/png": "[encoded data removed]",
      "text/plain": [
       "<Figure size 1296x648 with 2 Axes>"
      ]
     },
     "metadata": {},
     "output_type": "display_data"
    }
   ],
   "source": [
    "#Plot daily visitors\n",
    "\n",
    "fig = plt.figure(figsize=(18, 9))\n",
    "\n",
    "ax1 = fig.add_subplot(2, 1, 1)\n",
    "sns.barplot(x=daily_table['event_time'].dt.date, y='daily_visitors', data=daily_table, ax=ax1)\n",
    "plt.xticks(rotation=90)\n",
    "plt.title('Daily number of visitors',fontsize=12)\n",
    "plt.ylabel('Number of visitors',fontsize=12)\n",
    "plt.xlabel('Date',fontsize=12)\n",
    "\n",
    "ax2 = fig.add_subplot(2, 1, 2)\n",
    "sns.boxplot(x=daily_table['event_time'].dt.day_name(), y='daily_visitors', data=daily_table, ax=ax2)\n",
    "plt.title('Number of visitors each day',fontsize=12)\n",
    "plt.ylabel('Number of visitors',fontsize=12)\n",
    "plt.xlabel('Days',fontsize=12)\n",
    "fig.tight_layout(pad=3.5)"
   ]
  },
  {
   "cell_type": "markdown",
   "metadata": {},
   "source": [
    "Number of sales each day"
   ]
  },
  {
   "cell_type": "code",
   "execution_count": 341,
   "metadata": {
    "pycharm": {
     "is_executing": true,
     "name": "#%%\n"
    }
   },
   "outputs": [
    {
     "data": {
      "text/html": [
       "<div>\n",
       "<style scoped>\n",
       "    .dataframe tbody tr th:only-of-type {\n",
       "        vertical-align: middle;\n",
       "    }\n",
       "\n",
       "    .dataframe tbody tr th {\n",
       "        vertical-align: top;\n",
       "    }\n",
       "\n",
       "    .dataframe thead th {\n",
       "        text-align: right;\n",
       "    }\n",
       "</style>\n",
       "<table border=\"1\" class=\"dataframe\">\n",
       "  <thead>\n",
       "    <tr style=\"text-align: right;\">\n",
       "      <th></th>\n",
       "      <th>count</th>\n",
       "      <th>mean</th>\n",
       "      <th>std</th>\n",
       "      <th>min</th>\n",
       "      <th>25%</th>\n",
       "      <th>50%</th>\n",
       "      <th>75%</th>\n",
       "      <th>max</th>\n",
       "    </tr>\n",
       "    <tr>\n",
       "      <th>event_time</th>\n",
       "      <th></th>\n",
       "      <th></th>\n",
       "      <th></th>\n",
       "      <th></th>\n",
       "      <th></th>\n",
       "      <th></th>\n",
       "      <th></th>\n",
       "      <th></th>\n",
       "    </tr>\n",
       "  </thead>\n",
       "  <tbody>\n",
       "    <tr>\n",
       "      <th>Monday</th>\n",
       "      <td>4.00</td>\n",
       "      <td>24,015.50</td>\n",
       "      <td>3,463.16</td>\n",
       "      <td>21,112.00</td>\n",
       "      <td>21,311.50</td>\n",
       "      <td>23,272.50</td>\n",
       "      <td>25,976.50</td>\n",
       "      <td>28,405.00</td>\n",
       "    </tr>\n",
       "    <tr>\n",
       "      <th>Tuesday</th>\n",
       "      <td>5.00</td>\n",
       "      <td>22,902.00</td>\n",
       "      <td>3,063.90</td>\n",
       "      <td>19,307.00</td>\n",
       "      <td>20,374.00</td>\n",
       "      <td>23,072.00</td>\n",
       "      <td>25,385.00</td>\n",
       "      <td>26,372.00</td>\n",
       "    </tr>\n",
       "    <tr>\n",
       "      <th>Wednesday</th>\n",
       "      <td>5.00</td>\n",
       "      <td>23,831.80</td>\n",
       "      <td>4,671.54</td>\n",
       "      <td>19,469.00</td>\n",
       "      <td>20,817.00</td>\n",
       "      <td>22,748.00</td>\n",
       "      <td>24,731.00</td>\n",
       "      <td>31,394.00</td>\n",
       "    </tr>\n",
       "    <tr>\n",
       "      <th>Thursday</th>\n",
       "      <td>5.00</td>\n",
       "      <td>22,732.80</td>\n",
       "      <td>3,618.60</td>\n",
       "      <td>19,255.00</td>\n",
       "      <td>20,099.00</td>\n",
       "      <td>21,993.00</td>\n",
       "      <td>23,999.00</td>\n",
       "      <td>28,318.00</td>\n",
       "    </tr>\n",
       "    <tr>\n",
       "      <th>Friday</th>\n",
       "      <td>4.00</td>\n",
       "      <td>25,761.00</td>\n",
       "      <td>1,318.70</td>\n",
       "      <td>23,929.00</td>\n",
       "      <td>25,369.75</td>\n",
       "      <td>26,037.00</td>\n",
       "      <td>26,428.25</td>\n",
       "      <td>27,041.00</td>\n",
       "    </tr>\n",
       "    <tr>\n",
       "      <th>Saturday</th>\n",
       "      <td>4.00</td>\n",
       "      <td>24,044.25</td>\n",
       "      <td>1,208.22</td>\n",
       "      <td>22,653.00</td>\n",
       "      <td>23,283.75</td>\n",
       "      <td>24,075.50</td>\n",
       "      <td>24,836.00</td>\n",
       "      <td>25,373.00</td>\n",
       "    </tr>\n",
       "    <tr>\n",
       "      <th>Sunday</th>\n",
       "      <td>4.00</td>\n",
       "      <td>25,058.25</td>\n",
       "      <td>3,232.77</td>\n",
       "      <td>22,171.00</td>\n",
       "      <td>23,095.00</td>\n",
       "      <td>24,250.50</td>\n",
       "      <td>26,213.75</td>\n",
       "      <td>29,561.00</td>\n",
       "    </tr>\n",
       "  </tbody>\n",
       "</table>\n",
       "</div>"
      ],
      "text/plain": [
       "            count      mean      std       min       25%       50%       75%  \\\n",
       "event_time                                                                     \n",
       "Monday       4.00 24,015.50 3,463.16 21,112.00 21,311.50 23,272.50 25,976.50   \n",
       "Tuesday      5.00 22,902.00 3,063.90 19,307.00 20,374.00 23,072.00 25,385.00   \n",
       "Wednesday    5.00 23,831.80 4,671.54 19,469.00 20,817.00 22,748.00 24,731.00   \n",
       "Thursday     5.00 22,732.80 3,618.60 19,255.00 20,099.00 21,993.00 23,999.00   \n",
       "Friday       4.00 25,761.00 1,318.70 23,929.00 25,369.75 26,037.00 26,428.25   \n",
       "Saturday     4.00 24,044.25 1,208.22 22,653.00 23,283.75 24,075.50 24,836.00   \n",
       "Sunday       4.00 25,058.25 3,232.77 22,171.00 23,095.00 24,250.50 26,213.75   \n",
       "\n",
       "                 max  \n",
       "event_time            \n",
       "Monday     28,405.00  \n",
       "Tuesday    26,372.00  \n",
       "Wednesday  31,394.00  \n",
       "Thursday   28,318.00  \n",
       "Friday     27,041.00  \n",
       "Saturday   25,373.00  \n",
       "Sunday     29,561.00  "
      ]
     },
     "execution_count": 341,
     "metadata": {},
     "output_type": "execute_result"
    }
   ],
   "source": [
    "#Daily statistics for the sales\n",
    "\n",
    "Stats = pd.DataFrame(daily_table.groupby(by=daily_table['event_time'].dt.day_name())['number_daily_sales'].describe())\n",
    "days = [ 'Monday', 'Tuesday', 'Wednesday', 'Thursday', 'Friday', 'Saturday', 'Sunday'] #to re-order the days \n",
    "Stats.reindex(days)"
   ]
  },
  {
   "cell_type": "code",
   "execution_count": 342,
   "metadata": {
    "pycharm": {
     "is_executing": true,
     "name": "#%%\n"
    }
   },
   "outputs": [
    {
     "data": {
      "image/png": "[encoded data removed]",
      "text/plain": [
       "<Figure size 1296x648 with 2 Axes>"
      ]
     },
     "metadata": {},
     "output_type": "display_data"
    }
   ],
   "source": [
    "#Plot daily sales\n",
    "\n",
    "fig = plt.figure(figsize=(18, 9))\n",
    "\n",
    "ax1 = fig.add_subplot(2, 1, 1)\n",
    "sns.barplot(x=daily_table['event_time'].dt.date, y='number_daily_sales', data=daily_table, ax=ax1)\n",
    "plt.xticks(rotation=90)\n",
    "plt.title('Daily number of sales',fontsize=12)\n",
    "plt.ylabel('Number of sales',fontsize=12)\n",
    "plt.xlabel('Date',fontsize=12)\n",
    "\n",
    "ax2 = fig.add_subplot(2, 1, 2)\n",
    "sns.boxplot(x=daily_table['event_time'].dt.day_name(), y='number_daily_sales', data=daily_table, ax=ax2)\n",
    "plt.title('Number of sales each day',fontsize=12)\n",
    "plt.ylabel('Number of sales',fontsize=12)\n",
    "plt.xlabel('Days',fontsize=12)\n",
    "fig.tight_layout(pad=3.5)"
   ]
  },
  {
   "cell_type": "markdown",
   "metadata": {},
   "source": [
    "Total earned each day"
   ]
  },
  {
   "cell_type": "code",
   "execution_count": 343,
   "metadata": {
    "pycharm": {
     "is_executing": true,
     "name": "#%%\n"
    }
   },
   "outputs": [
    {
     "data": {
      "text/html": [
       "<div>\n",
       "<style scoped>\n",
       "    .dataframe tbody tr th:only-of-type {\n",
       "        vertical-align: middle;\n",
       "    }\n",
       "\n",
       "    .dataframe tbody tr th {\n",
       "        vertical-align: top;\n",
       "    }\n",
       "\n",
       "    .dataframe thead th {\n",
       "        text-align: right;\n",
       "    }\n",
       "</style>\n",
       "<table border=\"1\" class=\"dataframe\">\n",
       "  <thead>\n",
       "    <tr style=\"text-align: right;\">\n",
       "      <th></th>\n",
       "      <th>count</th>\n",
       "      <th>mean</th>\n",
       "      <th>std</th>\n",
       "      <th>min</th>\n",
       "      <th>25%</th>\n",
       "      <th>50%</th>\n",
       "      <th>75%</th>\n",
       "      <th>max</th>\n",
       "    </tr>\n",
       "    <tr>\n",
       "      <th>event_time</th>\n",
       "      <th></th>\n",
       "      <th></th>\n",
       "      <th></th>\n",
       "      <th></th>\n",
       "      <th></th>\n",
       "      <th></th>\n",
       "      <th></th>\n",
       "      <th></th>\n",
       "    </tr>\n",
       "  </thead>\n",
       "  <tbody>\n",
       "    <tr>\n",
       "      <th>Monday</th>\n",
       "      <td>4.00</td>\n",
       "      <td>7,539,810.99</td>\n",
       "      <td>1,381,315.12</td>\n",
       "      <td>6,348,189.06</td>\n",
       "      <td>6,530,843.44</td>\n",
       "      <td>7,227,181.62</td>\n",
       "      <td>8,236,149.16</td>\n",
       "      <td>9,356,691.65</td>\n",
       "    </tr>\n",
       "    <tr>\n",
       "      <th>Tuesday</th>\n",
       "      <td>5.00</td>\n",
       "      <td>7,219,398.61</td>\n",
       "      <td>1,025,462.09</td>\n",
       "      <td>6,275,964.01</td>\n",
       "      <td>6,433,438.43</td>\n",
       "      <td>6,819,832.28</td>\n",
       "      <td>7,914,693.04</td>\n",
       "      <td>8,653,065.29</td>\n",
       "    </tr>\n",
       "    <tr>\n",
       "      <th>Wednesday</th>\n",
       "      <td>5.00</td>\n",
       "      <td>7,413,163.99</td>\n",
       "      <td>1,400,503.96</td>\n",
       "      <td>6,213,628.53</td>\n",
       "      <td>6,634,069.51</td>\n",
       "      <td>6,855,511.13</td>\n",
       "      <td>7,615,371.54</td>\n",
       "      <td>9,747,239.24</td>\n",
       "    </tr>\n",
       "    <tr>\n",
       "      <th>Thursday</th>\n",
       "      <td>5.00</td>\n",
       "      <td>7,170,467.48</td>\n",
       "      <td>1,137,489.01</td>\n",
       "      <td>6,233,782.98</td>\n",
       "      <td>6,456,465.80</td>\n",
       "      <td>6,665,600.86</td>\n",
       "      <td>7,470,344.60</td>\n",
       "      <td>9,026,143.14</td>\n",
       "    </tr>\n",
       "    <tr>\n",
       "      <th>Friday</th>\n",
       "      <td>4.00</td>\n",
       "      <td>7,936,074.03</td>\n",
       "      <td>589,354.94</td>\n",
       "      <td>7,248,617.98</td>\n",
       "      <td>7,599,310.91</td>\n",
       "      <td>7,935,996.84</td>\n",
       "      <td>8,272,759.96</td>\n",
       "      <td>8,623,684.47</td>\n",
       "    </tr>\n",
       "    <tr>\n",
       "      <th>Saturday</th>\n",
       "      <td>4.00</td>\n",
       "      <td>7,282,342.67</td>\n",
       "      <td>268,120.21</td>\n",
       "      <td>6,917,602.84</td>\n",
       "      <td>7,210,169.39</td>\n",
       "      <td>7,324,644.24</td>\n",
       "      <td>7,396,817.52</td>\n",
       "      <td>7,562,479.36</td>\n",
       "    </tr>\n",
       "    <tr>\n",
       "      <th>Sunday</th>\n",
       "      <td>4.00</td>\n",
       "      <td>7,477,360.28</td>\n",
       "      <td>727,391.19</td>\n",
       "      <td>6,737,660.78</td>\n",
       "      <td>7,083,260.81</td>\n",
       "      <td>7,357,086.93</td>\n",
       "      <td>7,751,186.40</td>\n",
       "      <td>8,457,606.49</td>\n",
       "    </tr>\n",
       "  </tbody>\n",
       "</table>\n",
       "</div>"
      ],
      "text/plain": [
       "            count         mean          std          min          25%  \\\n",
       "event_time                                                              \n",
       "Monday       4.00 7,539,810.99 1,381,315.12 6,348,189.06 6,530,843.44   \n",
       "Tuesday      5.00 7,219,398.61 1,025,462.09 6,275,964.01 6,433,438.43   \n",
       "Wednesday    5.00 7,413,163.99 1,400,503.96 6,213,628.53 6,634,069.51   \n",
       "Thursday     5.00 7,170,467.48 1,137,489.01 6,233,782.98 6,456,465.80   \n",
       "Friday       4.00 7,936,074.03   589,354.94 7,248,617.98 7,599,310.91   \n",
       "Saturday     4.00 7,282,342.67   268,120.21 6,917,602.84 7,210,169.39   \n",
       "Sunday       4.00 7,477,360.28   727,391.19 6,737,660.78 7,083,260.81   \n",
       "\n",
       "                    50%          75%          max  \n",
       "event_time                                         \n",
       "Monday     7,227,181.62 8,236,149.16 9,356,691.65  \n",
       "Tuesday    6,819,832.28 7,914,693.04 8,653,065.29  \n",
       "Wednesday  6,855,511.13 7,615,371.54 9,747,239.24  \n",
       "Thursday   6,665,600.86 7,470,344.60 9,026,143.14  \n",
       "Friday     7,935,996.84 8,272,759.96 8,623,684.47  \n",
       "Saturday   7,324,644.24 7,396,817.52 7,562,479.36  \n",
       "Sunday     7,357,086.93 7,751,186.40 8,457,606.49  "
      ]
     },
     "execution_count": 343,
     "metadata": {},
     "output_type": "execute_result"
    }
   ],
   "source": [
    "#Daily statistics for the total sales\n",
    "\n",
    "Stats = pd.DataFrame(daily_table.groupby(by=daily_table['event_time'].dt.day_name())['total_daily_sales'].describe())\n",
    "days = [ 'Monday', 'Tuesday', 'Wednesday', 'Thursday', 'Friday', 'Saturday', 'Sunday'] #to re-order the days \n",
    "Stats.reindex(days)"
   ]
  },
  {
   "cell_type": "code",
   "execution_count": 344,
   "metadata": {
    "pycharm": {
     "is_executing": true,
     "name": "#%%\n"
    }
   },
   "outputs": [
    {
     "data": {
      "image/png": "[encoded data removed]",
      "text/plain": [
       "<Figure size 1296x648 with 2 Axes>"
      ]
     },
     "metadata": {},
     "output_type": "display_data"
    }
   ],
   "source": [
    "#Plot daily total sales\n",
    "\n",
    "fig = plt.figure(figsize=(18, 9))\n",
    "\n",
    "ax1 = fig.add_subplot(2, 1, 1)\n",
    "sns.barplot(x=daily_table['event_time'].dt.date, y='total_daily_sales', data=daily_table, ax=ax1)\n",
    "plt.xticks(rotation=90)\n",
    "plt.title('Daily sales',fontsize=12)\n",
    "plt.ylabel('Sold',fontsize=12)\n",
    "plt.xlabel('Date',fontsize=12)\n",
    "\n",
    "ax2 = fig.add_subplot(2, 1, 2)\n",
    "sns.boxplot(x=daily_table['event_time'].dt.day_name(), y='total_daily_sales', data=daily_table, ax=ax2)\n",
    "plt.title('Sold each day',fontsize=12)\n",
    "plt.ylabel('Sold',fontsize=12)\n",
    "plt.xlabel('Days',fontsize=12)\n",
    "fig.tight_layout(pad=3.5)"
   ]
  },
  {
   "cell_type": "markdown",
   "metadata": {},
   "source": [
    "## Types of purchase\n",
    "\n"
   ]
  },
  {
   "cell_type": "code",
   "execution_count": 371,
   "metadata": {
    "collapsed": true,
    "pycharm": {
     "is_executing": true,
     "name": "#%%\n"
    }
   },
   "outputs": [],
   "source": [
    "#Select users who made purchases\n",
    "sales_filter = df['event_type'] == 'purchase'       #Consider only purchase events\n",
    "clients_table = df.loc[sales_filter].groupby(\n",
    "    by=['user_id']).agg(number_purchases=('user_id', 'count'),\n",
    "    total_sales=('price', 'sum')).reset_index()"
   ]
  },
  {
   "cell_type": "code",
   "execution_count": 372,
   "metadata": {
    "pycharm": {
     "is_executing": true,
     "name": "#%%\n"
    }
   },
   "outputs": [
    {
     "data": {
      "text/html": [
       "<div>\n",
       "<style scoped>\n",
       "    .dataframe tbody tr th:only-of-type {\n",
       "        vertical-align: middle;\n",
       "    }\n",
       "\n",
       "    .dataframe tbody tr th {\n",
       "        vertical-align: top;\n",
       "    }\n",
       "\n",
       "    .dataframe thead th {\n",
       "        text-align: right;\n",
       "    }\n",
       "</style>\n",
       "<table border=\"1\" class=\"dataframe\">\n",
       "  <thead>\n",
       "    <tr style=\"text-align: right;\">\n",
       "      <th></th>\n",
       "      <th>user_id</th>\n",
       "      <th>number_purchases</th>\n",
       "      <th>total_sales</th>\n",
       "    </tr>\n",
       "  </thead>\n",
       "  <tbody>\n",
       "    <tr>\n",
       "      <th>0</th>\n",
       "      <td>33869381</td>\n",
       "      <td>0</td>\n",
       "      <td>0.00</td>\n",
       "    </tr>\n",
       "    <tr>\n",
       "      <th>1</th>\n",
       "      <td>64078358</td>\n",
       "      <td>0</td>\n",
       "      <td>0.00</td>\n",
       "    </tr>\n",
       "    <tr>\n",
       "      <th>2</th>\n",
       "      <td>183503497</td>\n",
       "      <td>0</td>\n",
       "      <td>0.00</td>\n",
       "    </tr>\n",
       "    <tr>\n",
       "      <th>3</th>\n",
       "      <td>184265397</td>\n",
       "      <td>0</td>\n",
       "      <td>0.00</td>\n",
       "    </tr>\n",
       "    <tr>\n",
       "      <th>4</th>\n",
       "      <td>195082191</td>\n",
       "      <td>0</td>\n",
       "      <td>0.00</td>\n",
       "    </tr>\n",
       "    <tr>\n",
       "      <th>...</th>\n",
       "      <td>...</td>\n",
       "      <td>...</td>\n",
       "      <td>...</td>\n",
       "    </tr>\n",
       "    <tr>\n",
       "      <th>3022285</th>\n",
       "      <td>566280663</td>\n",
       "      <td>0</td>\n",
       "      <td>0.00</td>\n",
       "    </tr>\n",
       "    <tr>\n",
       "      <th>3022286</th>\n",
       "      <td>566280676</td>\n",
       "      <td>0</td>\n",
       "      <td>0.00</td>\n",
       "    </tr>\n",
       "    <tr>\n",
       "      <th>3022287</th>\n",
       "      <td>566280697</td>\n",
       "      <td>0</td>\n",
       "      <td>0.00</td>\n",
       "    </tr>\n",
       "    <tr>\n",
       "      <th>3022288</th>\n",
       "      <td>566280780</td>\n",
       "      <td>0</td>\n",
       "      <td>0.00</td>\n",
       "    </tr>\n",
       "    <tr>\n",
       "      <th>3022289</th>\n",
       "      <td>566280860</td>\n",
       "      <td>0</td>\n",
       "      <td>0.00</td>\n",
       "    </tr>\n",
       "  </tbody>\n",
       "</table>\n",
       "<p>3022290 rows × 3 columns</p>\n",
       "</div>"
      ],
      "text/plain": [
       "           user_id  number_purchases  total_sales\n",
       "0         33869381                 0         0.00\n",
       "1         64078358                 0         0.00\n",
       "2        183503497                 0         0.00\n",
       "3        184265397                 0         0.00\n",
       "4        195082191                 0         0.00\n",
       "...            ...               ...          ...\n",
       "3022285  566280663                 0         0.00\n",
       "3022286  566280676                 0         0.00\n",
       "3022287  566280697                 0         0.00\n",
       "3022288  566280780                 0         0.00\n",
       "3022289  566280860                 0         0.00\n",
       "\n",
       "[3022290 rows x 3 columns]"
      ]
     },
     "execution_count": 372,
     "metadata": {},
     "output_type": "execute_result"
    }
   ],
   "source": [
    "clients_table"
   ]
  },
  {
   "cell_type": "code",
   "execution_count": 373,
   "metadata": {
    "pycharm": {
     "is_executing": true,
     "name": "#%%\n"
    }
   },
   "outputs": [
    {
     "name": "stdout",
     "output_type": "stream",
     "text": [
      "347,118 made at lest one purchase in October.\n",
      "--------------------------------------------------\n",
      "131,427 clients made more than one purchase in October\n",
      "--------------------------------------------------\n",
      "Clients distribution\n",
      "0   0.89\n",
      "1   0.07\n",
      "2   0.02\n",
      "3   0.01\n",
      "4   0.00\n",
      "5   0.00\n",
      "6   0.00\n",
      "7   0.00\n",
      "8   0.00\n",
      "9   0.00\n",
      "Name: number_purchases, dtype: float64\n"
     ]
    }
   ],
   "source": [
    "#Select only clients who made at least one purchase\n",
    "clients_who_purchased = clients_table.loc[clients_table.number_purchases>0,'user_id'].nunique()\n",
    "print('{:,.0f} made at lest one purchase in October.'.format(clients_who_purchased))\n",
    "\n",
    "#Select only clients who made more than one purchase\n",
    "print('-' * 50)\n",
    "more_than_one_purchase = clients_table.loc[clients_table.number_purchases>1,'user_id'].nunique()\n",
    "print('{:,.0f} clients made more than one purchase in October'.format(more_than_one_purchase))\n",
    "\n",
    "#Calculating percentage of clients who purchased 0,1...n items\n",
    "print('-' * 50)\n",
    "n=10\n",
    "print('Clients distribution')\n",
    "print(clients_table['number_purchases'].value_counts(normalize=True).head(n))"
   ]
  },
  {
   "cell_type": "code",
   "execution_count": 348,
   "metadata": {
    "pycharm": {
     "is_executing": true,
     "name": "#%%\n"
    }
   },
   "outputs": [
    {
     "name": "stdout",
     "output_type": "stream",
     "text": [
      "--------------------------------------------------\n",
      "Clients distribution\n",
      "1    0.62\n",
      "2    0.19\n",
      "3    0.07\n",
      "4    0.04\n",
      "5    0.02\n",
      "6    0.01\n",
      "7    0.01\n",
      "8    0.01\n",
      "9    0.00\n",
      "10   0.00\n",
      "Name: number_purchases, dtype: float64\n",
      "--------------------------------------------------\n"
     ]
    }
   ],
   "source": [
    "#Exlude clients who made 0 purchase and re-calculate percentage as before\n",
    "clients_table = clients_table.loc[clients_table.number_purchases>0]\n",
    "print('-' * 50)\n",
    "print('Clients distribution')\n",
    "print(clients_table['number_purchases'].value_counts(normalize=True).head(n))\n",
    "print('-' * 50)"
   ]
  },
  {
   "cell_type": "code",
   "execution_count": 349,
   "metadata": {
    "collapsed": true,
    "pycharm": {
     "is_executing": true,
     "name": "#%%\n"
    }
   },
   "outputs": [],
   "source": [
    "#filter out purchase anomalies (people who spend a lot and people who spend very few)\n",
    "threshold = np.percentile(clients_table['total_sales'], [5, 95])\n",
    "filter_threshold = np.logical_and(clients_table['total_sales'] >= threshold[0],\n",
    "                                       clients_table['total_sales'] <= threshold[1])\n",
    "filter_sales = clients_table.loc[filter_threshold]"
   ]
  },
  {
   "cell_type": "code",
   "execution_count": 350,
   "metadata": {
    "pycharm": {
     "is_executing": true,
     "name": "#%%\n"
    }
   },
   "outputs": [
    {
     "data": {
      "text/html": [
       "<div>\n",
       "<style scoped>\n",
       "    .dataframe tbody tr th:only-of-type {\n",
       "        vertical-align: middle;\n",
       "    }\n",
       "\n",
       "    .dataframe tbody tr th {\n",
       "        vertical-align: top;\n",
       "    }\n",
       "\n",
       "    .dataframe thead th {\n",
       "        text-align: right;\n",
       "    }\n",
       "</style>\n",
       "<table border=\"1\" class=\"dataframe\">\n",
       "  <thead>\n",
       "    <tr style=\"text-align: right;\">\n",
       "      <th></th>\n",
       "      <th>user_id</th>\n",
       "      <th>number_purchases</th>\n",
       "      <th>total_sales</th>\n",
       "    </tr>\n",
       "  </thead>\n",
       "  <tbody>\n",
       "    <tr>\n",
       "      <th>56</th>\n",
       "      <td>264649825</td>\n",
       "      <td>2</td>\n",
       "      <td>1,240.04</td>\n",
       "    </tr>\n",
       "    <tr>\n",
       "      <th>144</th>\n",
       "      <td>303160429</td>\n",
       "      <td>1</td>\n",
       "      <td>340.59</td>\n",
       "    </tr>\n",
       "    <tr>\n",
       "      <th>266</th>\n",
       "      <td>340041246</td>\n",
       "      <td>4</td>\n",
       "      <td>915.52</td>\n",
       "    </tr>\n",
       "    <tr>\n",
       "      <th>430</th>\n",
       "      <td>371877401</td>\n",
       "      <td>1</td>\n",
       "      <td>29.89</td>\n",
       "    </tr>\n",
       "    <tr>\n",
       "      <th>583</th>\n",
       "      <td>384989212</td>\n",
       "      <td>1</td>\n",
       "      <td>41.44</td>\n",
       "    </tr>\n",
       "    <tr>\n",
       "      <th>...</th>\n",
       "      <td>...</td>\n",
       "      <td>...</td>\n",
       "      <td>...</td>\n",
       "    </tr>\n",
       "    <tr>\n",
       "      <th>3022020</th>\n",
       "      <td>566270177</td>\n",
       "      <td>1</td>\n",
       "      <td>75.94</td>\n",
       "    </tr>\n",
       "    <tr>\n",
       "      <th>3022094</th>\n",
       "      <td>566272569</td>\n",
       "      <td>2</td>\n",
       "      <td>254.84</td>\n",
       "    </tr>\n",
       "    <tr>\n",
       "      <th>3022135</th>\n",
       "      <td>566274637</td>\n",
       "      <td>1</td>\n",
       "      <td>2,011.63</td>\n",
       "    </tr>\n",
       "    <tr>\n",
       "      <th>3022195</th>\n",
       "      <td>566276996</td>\n",
       "      <td>1</td>\n",
       "      <td>74.39</td>\n",
       "    </tr>\n",
       "    <tr>\n",
       "      <th>3022227</th>\n",
       "      <td>566278294</td>\n",
       "      <td>1</td>\n",
       "      <td>1,661.09</td>\n",
       "    </tr>\n",
       "  </tbody>\n",
       "</table>\n",
       "<p>312437 rows × 3 columns</p>\n",
       "</div>"
      ],
      "text/plain": [
       "           user_id  number_purchases  total_sales\n",
       "56       264649825                 2     1,240.04\n",
       "144      303160429                 1       340.59\n",
       "266      340041246                 4       915.52\n",
       "430      371877401                 1        29.89\n",
       "583      384989212                 1        41.44\n",
       "...            ...               ...          ...\n",
       "3022020  566270177                 1        75.94\n",
       "3022094  566272569                 2       254.84\n",
       "3022135  566274637                 1     2,011.63\n",
       "3022195  566276996                 1        74.39\n",
       "3022227  566278294                 1     1,661.09\n",
       "\n",
       "[312437 rows x 3 columns]"
      ]
     },
     "execution_count": 350,
     "metadata": {},
     "output_type": "execute_result"
    }
   ],
   "source": [
    "filter_sales"
   ]
  },
  {
   "cell_type": "code",
   "execution_count": 351,
   "metadata": {
    "pycharm": {
     "is_executing": true,
     "name": "#%%\n"
    }
   },
   "outputs": [
    {
     "name": "stdout",
     "output_type": "stream",
     "text": [
      "Clients table\n",
      "       number_purchases  total_sales\n",
      "count        347,118.00   347,118.00\n",
      "mean               2.14       662.48\n",
      "std                3.64     2,074.37\n",
      "min                1.00         0.88\n",
      "25%                1.00       107.59\n",
      "50%                1.00       246.52\n",
      "75%                2.00       595.01\n",
      "max              322.00   265,569.52\n",
      "--------------------------------------------------\n",
      "Filtered clients table\n",
      "       number_purchases  total_sales\n",
      "count        312,437.00   312,437.00\n",
      "mean               1.75       419.01\n",
      "std                1.56       454.73\n",
      "min                1.00        28.51\n",
      "25%                1.00       123.50\n",
      "50%                1.00       246.52\n",
      "75%                2.00       535.15\n",
      "max               60.00     2,339.25\n",
      "--------------------------------------------------\n"
     ]
    }
   ],
   "source": [
    "# Compare statistics for all clients purchasing before and after anomalies filtering\n",
    "print('Clients table')\n",
    "print(clients_table.describe())\n",
    "\n",
    "print('-' * 50)\n",
    "print('Filtered clients table')\n",
    "print(filter_sales.describe())\n",
    "print('-' * 50)"
   ]
  },
  {
   "cell_type": "code",
   "execution_count": 352,
   "metadata": {
    "pycharm": {
     "is_executing": true,
     "name": "#%%\n"
    },
    "scrolled": true
   },
   "outputs": [
    {
     "data": {
      "image/png": "[encoded data removed]",
      "text/plain": [
       "<Figure size 864x864 with 1 Axes>"
      ]
     },
     "metadata": {},
     "output_type": "display_data"
    }
   ],
   "source": [
    "fig = plt.figure(figsize=(12, 12))\n",
    "\n",
    "ax1 = fig.add_subplot(2, 1, 2)\n",
    "sns.histplot(filter_sales['total_sales'],ax=ax1, kde=True, stat=\"density\", linewidth=0, color='red')\n",
    "plt.grid()\n",
    "plt.title('Histogram sales')\n",
    "plt.ylabel('Density')\n",
    "plt.xlabel('total sales')\n",
    "fig.tight_layout(pad=3.0)"
   ]
  },
  {
   "cell_type": "code",
   "execution_count": 353,
   "metadata": {
    "pycharm": {
     "is_executing": true,
     "name": "#%%\n"
    }
   },
   "outputs": [
    {
     "name": "stdout",
     "output_type": "stream",
     "text": [
      "Top 10% purchase clients\n",
      "--------------------------------------------------\n",
      "count    34,712.00\n",
      "mean      3,735.44\n",
      "std       5,625.45\n",
      "min       1,418.31\n",
      "25%       1,741.34\n",
      "50%       2,339.25\n",
      "75%       3,771.48\n",
      "max     265,569.52\n",
      "Name: total_sales, dtype: float64\n",
      "--------------------------------------------------\n",
      "Total sales: 229,957,502\n",
      "Total sales top 10% clients: 129,664,534\n",
      "Clienti regolari per totale vendite\n",
      "--------------------------------------------------\n",
      "count   312,406.00\n",
      "mean        321.03\n",
      "std         314.94\n",
      "min           0.88\n",
      "25%          94.21\n",
      "50%         205.08\n",
      "75%         442.68\n",
      "max       1,418.25\n",
      "Name: total_sales, dtype: float64\n",
      "--------------------------------------------------\n",
      "Total sales regular clients: 100,292,968\n"
     ]
    }
   ],
   "source": [
    "#Show best clients\n",
    "\n",
    "#filter clients with purchase percentage higher than %10 of all clients\n",
    "top_10 = np.percentile(clients_table['total_sales'],90)\n",
    "filter_top_10 = clients_table['total_sales']>=top_10\n",
    "table_top_10 = clients_table.loc[filter_top_10]\n",
    "table_regular_clients = clients_table.loc[~filter_top_10]\n",
    "\n",
    "#Statistics\n",
    "print('Top 10% purchase clients')\n",
    "print('-'*50)\n",
    "print(table_top_10['total_sales'].describe())\n",
    "print('-'*50)\n",
    "total_sales_amount = clients_table['total_sales'].sum()\n",
    "print('Total sales: {:,.0f}'.format(total_sales_amount))\n",
    "total_sales_amount_top10 = table_top_10['total_sales'].sum()\n",
    "print('Total sales top 10% clients: {:,.0f}'.format(total_sales_amount_top10))\n",
    "\n",
    "#calculating descriptive statistics\n",
    "print('Clienti regolari per totale vendite')\n",
    "print('-'*50)\n",
    "print(table_regular_clients['total_sales'].describe())\n",
    "print('-'*50)\n",
    "total_sales_amount_regular_clients = table_regular_clients['total_sales'].sum()\n",
    "print('Total sales regular clients: {:,.0f}'.format(total_sales_amount_regular_clients))\n"
   ]
  },
  {
   "cell_type": "markdown",
   "metadata": {},
   "source": [
    "## Products Analysis\n"
   ]
  },
  {
   "cell_type": "markdown",
   "metadata": {},
   "source": [
    "**Products categories**"
   ]
  },
  {
   "cell_type": "code",
   "execution_count": 354,
   "metadata": {
    "collapsed": true,
    "pycharm": {
     "is_executing": true,
     "name": "#%%\n"
    }
   },
   "outputs": [],
   "source": [
    "# Performance of each category\n",
    "\n",
    "table_categories = df.groupby(by=['category']).agg(number_events=('category', 'count'),\n",
    "                                                         number_users=('user_id', lambda x: x.nunique()),\n",
    "                                                         number_sessions=(\n",
    "                                                         'user_session', pd.Series.nunique)).reset_index()\n",
    "filter_sales = df['event_type'] == 'purchase'\n",
    "table_category_sales = df.loc[filter_sales].groupby(by=['category']).agg(\n",
    "    number_purchases=('category', 'count'),\n",
    "    total_sales=('price', 'sum'),\n",
    "    avg_sales=('price', 'mean'),\n",
    "    sessions_with_purchases=('user_session', pd.Series.nunique),\n",
    "    number_clients=('user_id', lambda x: x.nunique())).reset_index()\n",
    "table_categories = pd.merge(left=table_categories,\n",
    "                             right=table_category_sales,\n",
    "                             left_on='category',\n",
    "                             right_on='category',\n",
    "                             how='left')\n",
    "table_categories['conversion_percentage'] = table_categories['number_purchases'] / table_categories[\n",
    "    'number_sessions']"
   ]
  },
  {
   "cell_type": "code",
   "execution_count": 355,
   "metadata": {
    "pycharm": {
     "is_executing": true,
     "name": "#%%\n"
    }
   },
   "outputs": [
    {
     "data": {
      "text/html": [
       "<div>\n",
       "<style scoped>\n",
       "    .dataframe tbody tr th:only-of-type {\n",
       "        vertical-align: middle;\n",
       "    }\n",
       "\n",
       "    .dataframe tbody tr th {\n",
       "        vertical-align: top;\n",
       "    }\n",
       "\n",
       "    .dataframe thead th {\n",
       "        text-align: right;\n",
       "    }\n",
       "</style>\n",
       "<table border=\"1\" class=\"dataframe\">\n",
       "  <thead>\n",
       "    <tr style=\"text-align: right;\">\n",
       "      <th></th>\n",
       "      <th>category</th>\n",
       "      <th>number_events</th>\n",
       "      <th>number_users</th>\n",
       "      <th>number_sessions</th>\n",
       "      <th>number_purchases</th>\n",
       "      <th>total_sales</th>\n",
       "      <th>avg_sales</th>\n",
       "      <th>sessions_with_purchases</th>\n",
       "      <th>number_clients</th>\n",
       "      <th>conversion_percentage</th>\n",
       "    </tr>\n",
       "  </thead>\n",
       "  <tbody>\n",
       "    <tr>\n",
       "      <th>0</th>\n",
       "      <td>accessories</td>\n",
       "      <td>238238</td>\n",
       "      <td>50753</td>\n",
       "      <td>68100</td>\n",
       "      <td>1587</td>\n",
       "      <td>68,783.88</td>\n",
       "      <td>43.34</td>\n",
       "      <td>1481</td>\n",
       "      <td>1134</td>\n",
       "      <td>0.02</td>\n",
       "    </tr>\n",
       "    <tr>\n",
       "      <th>1</th>\n",
       "      <td>apparel</td>\n",
       "      <td>1542924</td>\n",
       "      <td>259014</td>\n",
       "      <td>381510</td>\n",
       "      <td>8002</td>\n",
       "      <td>624,937.75</td>\n",
       "      <td>78.10</td>\n",
       "      <td>7233</td>\n",
       "      <td>5186</td>\n",
       "      <td>0.02</td>\n",
       "    </tr>\n",
       "    <tr>\n",
       "      <th>2</th>\n",
       "      <td>appliances</td>\n",
       "      <td>4967294</td>\n",
       "      <td>544317</td>\n",
       "      <td>1055909</td>\n",
       "      <td>74996</td>\n",
       "      <td>13,583,121.92</td>\n",
       "      <td>181.12</td>\n",
       "      <td>67302</td>\n",
       "      <td>49280</td>\n",
       "      <td>0.07</td>\n",
       "    </tr>\n",
       "    <tr>\n",
       "      <th>3</th>\n",
       "      <td>auto</td>\n",
       "      <td>1013115</td>\n",
       "      <td>159148</td>\n",
       "      <td>264065</td>\n",
       "      <td>10620</td>\n",
       "      <td>1,274,031.65</td>\n",
       "      <td>119.97</td>\n",
       "      <td>9748</td>\n",
       "      <td>7382</td>\n",
       "      <td>0.04</td>\n",
       "    </tr>\n",
       "    <tr>\n",
       "      <th>4</th>\n",
       "      <td>computers</td>\n",
       "      <td>2324217</td>\n",
       "      <td>248614</td>\n",
       "      <td>511185</td>\n",
       "      <td>27855</td>\n",
       "      <td>11,378,874.65</td>\n",
       "      <td>408.50</td>\n",
       "      <td>24434</td>\n",
       "      <td>16200</td>\n",
       "      <td>0.05</td>\n",
       "    </tr>\n",
       "    <tr>\n",
       "      <th>5</th>\n",
       "      <td>construction</td>\n",
       "      <td>730834</td>\n",
       "      <td>101839</td>\n",
       "      <td>167363</td>\n",
       "      <td>7801</td>\n",
       "      <td>932,995.02</td>\n",
       "      <td>119.60</td>\n",
       "      <td>7122</td>\n",
       "      <td>5353</td>\n",
       "      <td>0.05</td>\n",
       "    </tr>\n",
       "    <tr>\n",
       "      <th>6</th>\n",
       "      <td>country_yard</td>\n",
       "      <td>14089</td>\n",
       "      <td>4041</td>\n",
       "      <td>4917</td>\n",
       "      <td>72</td>\n",
       "      <td>15,695.45</td>\n",
       "      <td>217.99</td>\n",
       "      <td>70</td>\n",
       "      <td>59</td>\n",
       "      <td>0.01</td>\n",
       "    </tr>\n",
       "    <tr>\n",
       "      <th>7</th>\n",
       "      <td>electronics</td>\n",
       "      <td>16135623</td>\n",
       "      <td>1683503</td>\n",
       "      <td>4226627</td>\n",
       "      <td>423028</td>\n",
       "      <td>176,464,168.36</td>\n",
       "      <td>417.15</td>\n",
       "      <td>357464</td>\n",
       "      <td>200031</td>\n",
       "      <td>0.10</td>\n",
       "    </tr>\n",
       "    <tr>\n",
       "      <th>8</th>\n",
       "      <td>furniture</td>\n",
       "      <td>1247160</td>\n",
       "      <td>202653</td>\n",
       "      <td>333109</td>\n",
       "      <td>8301</td>\n",
       "      <td>1,673,728.99</td>\n",
       "      <td>201.63</td>\n",
       "      <td>7594</td>\n",
       "      <td>5644</td>\n",
       "      <td>0.02</td>\n",
       "    </tr>\n",
       "    <tr>\n",
       "      <th>9</th>\n",
       "      <td>kids</td>\n",
       "      <td>520619</td>\n",
       "      <td>100077</td>\n",
       "      <td>156069</td>\n",
       "      <td>5482</td>\n",
       "      <td>678,140.67</td>\n",
       "      <td>123.70</td>\n",
       "      <td>4977</td>\n",
       "      <td>3689</td>\n",
       "      <td>0.04</td>\n",
       "    </tr>\n",
       "    <tr>\n",
       "      <th>10</th>\n",
       "      <td>medicine</td>\n",
       "      <td>14806</td>\n",
       "      <td>3437</td>\n",
       "      <td>4733</td>\n",
       "      <td>310</td>\n",
       "      <td>13,500.42</td>\n",
       "      <td>43.55</td>\n",
       "      <td>296</td>\n",
       "      <td>264</td>\n",
       "      <td>0.07</td>\n",
       "    </tr>\n",
       "    <tr>\n",
       "      <th>11</th>\n",
       "      <td>sport</td>\n",
       "      <td>176616</td>\n",
       "      <td>40177</td>\n",
       "      <td>56270</td>\n",
       "      <td>1236</td>\n",
       "      <td>322,559.00</td>\n",
       "      <td>260.97</td>\n",
       "      <td>1136</td>\n",
       "      <td>861</td>\n",
       "      <td>0.02</td>\n",
       "    </tr>\n",
       "    <tr>\n",
       "      <th>12</th>\n",
       "      <td>stationery</td>\n",
       "      <td>7620</td>\n",
       "      <td>2181</td>\n",
       "      <td>2854</td>\n",
       "      <td>134</td>\n",
       "      <td>2,027.38</td>\n",
       "      <td>15.13</td>\n",
       "      <td>106</td>\n",
       "      <td>91</td>\n",
       "      <td>0.05</td>\n",
       "    </tr>\n",
       "  </tbody>\n",
       "</table>\n",
       "</div>"
      ],
      "text/plain": [
       "        category  number_events  number_users  number_sessions  \\\n",
       "0    accessories         238238         50753            68100   \n",
       "1        apparel        1542924        259014           381510   \n",
       "2     appliances        4967294        544317          1055909   \n",
       "3           auto        1013115        159148           264065   \n",
       "4      computers        2324217        248614           511185   \n",
       "5   construction         730834        101839           167363   \n",
       "6   country_yard          14089          4041             4917   \n",
       "7    electronics       16135623       1683503          4226627   \n",
       "8      furniture        1247160        202653           333109   \n",
       "9           kids         520619        100077           156069   \n",
       "10      medicine          14806          3437             4733   \n",
       "11         sport         176616         40177            56270   \n",
       "12    stationery           7620          2181             2854   \n",
       "\n",
       "    number_purchases    total_sales  avg_sales  sessions_with_purchases  \\\n",
       "0               1587      68,783.88      43.34                     1481   \n",
       "1               8002     624,937.75      78.10                     7233   \n",
       "2              74996  13,583,121.92     181.12                    67302   \n",
       "3              10620   1,274,031.65     119.97                     9748   \n",
       "4              27855  11,378,874.65     408.50                    24434   \n",
       "5               7801     932,995.02     119.60                     7122   \n",
       "6                 72      15,695.45     217.99                       70   \n",
       "7             423028 176,464,168.36     417.15                   357464   \n",
       "8               8301   1,673,728.99     201.63                     7594   \n",
       "9               5482     678,140.67     123.70                     4977   \n",
       "10               310      13,500.42      43.55                      296   \n",
       "11              1236     322,559.00     260.97                     1136   \n",
       "12               134       2,027.38      15.13                      106   \n",
       "\n",
       "    number_clients  conversion_percentage  \n",
       "0             1134                   0.02  \n",
       "1             5186                   0.02  \n",
       "2            49280                   0.07  \n",
       "3             7382                   0.04  \n",
       "4            16200                   0.05  \n",
       "5             5353                   0.05  \n",
       "6               59                   0.01  \n",
       "7           200031                   0.10  \n",
       "8             5644                   0.02  \n",
       "9             3689                   0.04  \n",
       "10             264                   0.07  \n",
       "11             861                   0.02  \n",
       "12              91                   0.05  "
      ]
     },
     "execution_count": 355,
     "metadata": {},
     "output_type": "execute_result"
    }
   ],
   "source": [
    "table_categories"
   ]
  },
  {
   "cell_type": "code",
   "execution_count": 356,
   "metadata": {
    "pycharm": {
     "is_executing": true,
     "name": "#%%\n"
    }
   },
   "outputs": [
    {
     "data": {
      "image/png": "[encoded data removed]",
      "text/plain": [
       "<Figure size 1296x360 with 1 Axes>"
      ]
     },
     "metadata": {},
     "output_type": "display_data"
    }
   ],
   "source": [
    "#Number of events generated by each category\n",
    "\n",
    "plt.figure(figsize=(18,5))\n",
    "plot = sns.barplot(x='category', y='number_events', data=table_categories)\n",
    "for p in plot.patches:\n",
    "    plot.annotate(format(p.get_height(), ',.0f'),\n",
    "                  (p.get_x() + p.get_width() / 2., p.get_height()),\n",
    "                  ha = 'center',\n",
    "                  va = 'center',\n",
    "                  xytext = (0, 10),\n",
    "                  textcoords = 'offset points')\n",
    "\n",
    "plt.title('Total number of events per each category')\n",
    "plt.xlabel('Category')\n",
    "plt.ylabel('Number of Events')\n",
    "plt.ylim(0, table_categories['number_events'].max()*1.2);"
   ]
  },
  {
   "cell_type": "code",
   "execution_count": 357,
   "metadata": {
    "pycharm": {
     "is_executing": true,
     "name": "#%%\n"
    }
   },
   "outputs": [
    {
     "data": {
      "image/png": "[encoded data removed]",
      "text/plain": [
       "<Figure size 1296x360 with 1 Axes>"
      ]
     },
     "metadata": {},
     "output_type": "display_data"
    }
   ],
   "source": [
    "#Number of visitors per each category\n",
    "\n",
    "plt.figure(figsize=(18,5))\n",
    "plot = sns.barplot(x='category', y='number_users', data=table_categories)\n",
    "for p in plot.patches:\n",
    "    plot.annotate(format(p.get_height(), ',.0f'),\n",
    "                  (p.get_x() + p.get_width() / 2., p.get_height()),\n",
    "                  ha = 'center',\n",
    "                  va = 'center',\n",
    "                  xytext = (0, 10),\n",
    "                  textcoords = 'offset points')\n",
    "plt.title('Total number of visitors per each category',fontsize=12)\n",
    "plt.xlabel('Category',fontsize=12)\n",
    "plt.ylabel('Number of clients',fontsize=12)\n",
    "plt.ylim(0, table_categories['number_users'].max()*1.2);"
   ]
  },
  {
   "cell_type": "code",
   "execution_count": 358,
   "metadata": {
    "pycharm": {
     "is_executing": true,
     "name": "#%%\n"
    }
   },
   "outputs": [
    {
     "data": {
      "image/png": "[encoded data removed]",
      "text/plain": [
       "<Figure size 1296x360 with 1 Axes>"
      ]
     },
     "metadata": {},
     "output_type": "display_data"
    }
   ],
   "source": [
    "#Number of conversions per each category\n",
    "\n",
    "plt.figure(figsize=(18,5))\n",
    "plot = sns.barplot(x='category', y='conversion_percentage', data=table_categories)\n",
    "for p in plot.patches:\n",
    "    plot.annotate(\"{:.1%}\".format(p.get_height()),\n",
    "                  (p.get_x() + p.get_width() / 2., p.get_height()),\n",
    "                  ha = 'center',\n",
    "                  va = 'center',\n",
    "                  xytext = (0, 10),\n",
    "                  textcoords = 'offset points')\n",
    "\n",
    "plt.title('Conversion percentage per each category')\n",
    "plt.xlabel('Category')\n",
    "plt.ylabel('Conversion percentage')\n",
    "plt.ylim(0, table_categories['conversion_percentage'].max() * 1.2)\n",
    "plt.show()"
   ]
  },
  {
   "cell_type": "code",
   "execution_count": 359,
   "metadata": {},
   "outputs": [],
   "source": [
    "# Performance of each sub-category\n",
    "\n",
    "table_subcategories = df.groupby(by=['category','subcategory']).agg(number_events=('category', 'count'),\n",
    "                                                         number_users=('user_id', lambda x: x.nunique()),\n",
    "                                                         number_sessions=(\n",
    "                                                         'user_session', pd.Series.nunique)).reset_index()\n",
    "filter_sales = df['event_type'] == 'purchase'\n",
    "table_subcategory_sales = df.loc[filter_sales].groupby(by=['category','subcategory']).agg(\n",
    "    number_purchases=('category', 'count'),\n",
    "    total_sales=('price', 'sum'),\n",
    "    avg_sales=('price', 'mean'),\n",
    "    sessions_with_purchases=('user_session', pd.Series.nunique),\n",
    "    number_clients=('user_id', lambda x: x.nunique())).reset_index()\n",
    "table_subcategories = pd.merge(left=table_subcategories,\n",
    "                             right=table_subcategory_sales,\n",
    "                             left_on=['category','subcategory'],\n",
    "                             right_on=['category','subcategory'],\n",
    "                             how='left')\n",
    "table_subcategories['conversion_percentage'] = table_subcategories['number_purchases'] / table_subcategories[\n",
    "    'number_sessions']\n",
    "\n",
    "table_subcategories['category_subcategory'] = table_subcategories['category'] + '-' + table_subcategories['subcategory']\n",
    "\n",
    "table_subcategories_sorted = table_subcategories.sort_values(by='number_events', ascending=False)"
   ]
  },
  {
   "cell_type": "code",
   "execution_count": 360,
   "metadata": {},
   "outputs": [
    {
     "data": {
      "text/html": [
       "<div>\n",
       "<style scoped>\n",
       "    .dataframe tbody tr th:only-of-type {\n",
       "        vertical-align: middle;\n",
       "    }\n",
       "\n",
       "    .dataframe tbody tr th {\n",
       "        vertical-align: top;\n",
       "    }\n",
       "\n",
       "    .dataframe thead th {\n",
       "        text-align: right;\n",
       "    }\n",
       "</style>\n",
       "<table border=\"1\" class=\"dataframe\">\n",
       "  <thead>\n",
       "    <tr style=\"text-align: right;\">\n",
       "      <th></th>\n",
       "      <th>category</th>\n",
       "      <th>subcategory</th>\n",
       "      <th>number_events</th>\n",
       "      <th>number_users</th>\n",
       "      <th>number_sessions</th>\n",
       "      <th>number_purchases</th>\n",
       "      <th>total_sales</th>\n",
       "      <th>avg_sales</th>\n",
       "      <th>sessions_with_purchases</th>\n",
       "      <th>number_clients</th>\n",
       "      <th>conversion_percentage</th>\n",
       "      <th>category_subcategory</th>\n",
       "    </tr>\n",
       "  </thead>\n",
       "  <tbody>\n",
       "    <tr>\n",
       "      <th>38</th>\n",
       "      <td>electronics</td>\n",
       "      <td>smartphone</td>\n",
       "      <td>11507231</td>\n",
       "      <td>1300236</td>\n",
       "      <td>3099337</td>\n",
       "      <td>338,018.00</td>\n",
       "      <td>157,049,623.37</td>\n",
       "      <td>464.62</td>\n",
       "      <td>285,252.00</td>\n",
       "      <td>160,437.00</td>\n",
       "      <td>0.11</td>\n",
       "      <td>electronics-smartphone</td>\n",
       "    </tr>\n",
       "    <tr>\n",
       "      <th>21</th>\n",
       "      <td>appliances</td>\n",
       "      <td>kitchen</td>\n",
       "      <td>3317047</td>\n",
       "      <td>396749</td>\n",
       "      <td>733499</td>\n",
       "      <td>48,124.00</td>\n",
       "      <td>10,533,873.02</td>\n",
       "      <td>218.89</td>\n",
       "      <td>43,201.00</td>\n",
       "      <td>31,907.00</td>\n",
       "      <td>0.07</td>\n",
       "      <td>appliances-kitchen</td>\n",
       "    </tr>\n",
       "    <tr>\n",
       "      <th>35</th>\n",
       "      <td>electronics</td>\n",
       "      <td>audio</td>\n",
       "      <td>1574674</td>\n",
       "      <td>286092</td>\n",
       "      <td>498730</td>\n",
       "      <td>35,592.00</td>\n",
       "      <td>4,151,606.02</td>\n",
       "      <td>116.64</td>\n",
       "      <td>31,921.00</td>\n",
       "      <td>22,052.00</td>\n",
       "      <td>0.07</td>\n",
       "      <td>electronics-audio</td>\n",
       "    </tr>\n",
       "    <tr>\n",
       "      <th>37</th>\n",
       "      <td>electronics</td>\n",
       "      <td>clocks</td>\n",
       "      <td>1311033</td>\n",
       "      <td>211928</td>\n",
       "      <td>374029</td>\n",
       "      <td>17,906.00</td>\n",
       "      <td>4,818,305.47</td>\n",
       "      <td>269.09</td>\n",
       "      <td>15,998.00</td>\n",
       "      <td>10,746.00</td>\n",
       "      <td>0.05</td>\n",
       "      <td>electronics-clocks</td>\n",
       "    </tr>\n",
       "    <tr>\n",
       "      <th>11</th>\n",
       "      <td>apparel</td>\n",
       "      <td>shoes</td>\n",
       "      <td>1208383</td>\n",
       "      <td>183531</td>\n",
       "      <td>270742</td>\n",
       "      <td>7,082.00</td>\n",
       "      <td>561,241.33</td>\n",
       "      <td>79.25</td>\n",
       "      <td>6,420.00</td>\n",
       "      <td>4,593.00</td>\n",
       "      <td>0.03</td>\n",
       "      <td>apparel-shoes</td>\n",
       "    </tr>\n",
       "    <tr>\n",
       "      <th>18</th>\n",
       "      <td>appliances</td>\n",
       "      <td>environment</td>\n",
       "      <td>1147634</td>\n",
       "      <td>161934</td>\n",
       "      <td>260666</td>\n",
       "      <td>18,074.00</td>\n",
       "      <td>2,320,568.47</td>\n",
       "      <td>128.39</td>\n",
       "      <td>16,782.00</td>\n",
       "      <td>13,264.00</td>\n",
       "      <td>0.07</td>\n",
       "      <td>appliances-environment</td>\n",
       "    </tr>\n",
       "    <tr>\n",
       "      <th>28</th>\n",
       "      <td>computers</td>\n",
       "      <td>notebook</td>\n",
       "      <td>1137623</td>\n",
       "      <td>129214</td>\n",
       "      <td>245182</td>\n",
       "      <td>15,590.00</td>\n",
       "      <td>8,979,887.25</td>\n",
       "      <td>576.00</td>\n",
       "      <td>13,655.00</td>\n",
       "      <td>9,185.00</td>\n",
       "      <td>0.06</td>\n",
       "      <td>computers-notebook</td>\n",
       "    </tr>\n",
       "    <tr>\n",
       "      <th>41</th>\n",
       "      <td>electronics</td>\n",
       "      <td>video</td>\n",
       "      <td>1126904</td>\n",
       "      <td>172457</td>\n",
       "      <td>284368</td>\n",
       "      <td>21,647.00</td>\n",
       "      <td>8,460,467.81</td>\n",
       "      <td>390.84</td>\n",
       "      <td>19,292.00</td>\n",
       "      <td>13,533.00</td>\n",
       "      <td>0.08</td>\n",
       "      <td>electronics-video</td>\n",
       "    </tr>\n",
       "    <tr>\n",
       "      <th>24</th>\n",
       "      <td>auto</td>\n",
       "      <td>accessories</td>\n",
       "      <td>1013115</td>\n",
       "      <td>159148</td>\n",
       "      <td>264065</td>\n",
       "      <td>10,620.00</td>\n",
       "      <td>1,274,031.65</td>\n",
       "      <td>119.97</td>\n",
       "      <td>9,748.00</td>\n",
       "      <td>7,382.00</td>\n",
       "      <td>0.04</td>\n",
       "      <td>auto-accessories</td>\n",
       "    </tr>\n",
       "    <tr>\n",
       "      <th>31</th>\n",
       "      <td>construction</td>\n",
       "      <td>tools</td>\n",
       "      <td>705010</td>\n",
       "      <td>96815</td>\n",
       "      <td>159788</td>\n",
       "      <td>7,504.00</td>\n",
       "      <td>918,092.07</td>\n",
       "      <td>122.35</td>\n",
       "      <td>6,858.00</td>\n",
       "      <td>5,145.00</td>\n",
       "      <td>0.05</td>\n",
       "      <td>construction-tools</td>\n",
       "    </tr>\n",
       "  </tbody>\n",
       "</table>\n",
       "</div>"
      ],
      "text/plain": [
       "        category  subcategory  number_events  number_users  number_sessions  \\\n",
       "38   electronics   smartphone       11507231       1300236          3099337   \n",
       "21    appliances      kitchen        3317047        396749           733499   \n",
       "35   electronics        audio        1574674        286092           498730   \n",
       "37   electronics       clocks        1311033        211928           374029   \n",
       "11       apparel        shoes        1208383        183531           270742   \n",
       "18    appliances  environment        1147634        161934           260666   \n",
       "28     computers     notebook        1137623        129214           245182   \n",
       "41   electronics        video        1126904        172457           284368   \n",
       "24          auto  accessories        1013115        159148           264065   \n",
       "31  construction        tools         705010         96815           159788   \n",
       "\n",
       "    number_purchases    total_sales  avg_sales  sessions_with_purchases  \\\n",
       "38        338,018.00 157,049,623.37     464.62               285,252.00   \n",
       "21         48,124.00  10,533,873.02     218.89                43,201.00   \n",
       "35         35,592.00   4,151,606.02     116.64                31,921.00   \n",
       "37         17,906.00   4,818,305.47     269.09                15,998.00   \n",
       "11          7,082.00     561,241.33      79.25                 6,420.00   \n",
       "18         18,074.00   2,320,568.47     128.39                16,782.00   \n",
       "28         15,590.00   8,979,887.25     576.00                13,655.00   \n",
       "41         21,647.00   8,460,467.81     390.84                19,292.00   \n",
       "24         10,620.00   1,274,031.65     119.97                 9,748.00   \n",
       "31          7,504.00     918,092.07     122.35                 6,858.00   \n",
       "\n",
       "    number_clients  conversion_percentage    category_subcategory  \n",
       "38      160,437.00                   0.11  electronics-smartphone  \n",
       "21       31,907.00                   0.07      appliances-kitchen  \n",
       "35       22,052.00                   0.07       electronics-audio  \n",
       "37       10,746.00                   0.05      electronics-clocks  \n",
       "11        4,593.00                   0.03           apparel-shoes  \n",
       "18       13,264.00                   0.07  appliances-environment  \n",
       "28        9,185.00                   0.06      computers-notebook  \n",
       "41       13,533.00                   0.08       electronics-video  \n",
       "24        7,382.00                   0.04        auto-accessories  \n",
       "31        5,145.00                   0.05      construction-tools  "
      ]
     },
     "execution_count": 360,
     "metadata": {},
     "output_type": "execute_result"
    }
   ],
   "source": [
    "table_subcategories_sorted.head(10)"
   ]
  },
  {
   "cell_type": "code",
   "execution_count": 361,
   "metadata": {
    "pycharm": {
     "is_executing": true,
     "name": "#%%\n"
    }
   },
   "outputs": [
    {
     "data": {
      "image/png": "[encoded data removed]",
      "text/plain": [
       "<Figure size 1296x360 with 1 Axes>"
      ]
     },
     "metadata": {},
     "output_type": "display_data"
    }
   ],
   "source": [
    "#Plot number of events per each sub-category\n",
    "\n",
    "fig = plt.figure(figsize=(18,5))\n",
    "plot = sns.barplot(x='subcategory', y='number_events', data=table_subcategories_sorted.head(10),palette=\"rocket\")\n",
    "\n",
    "for p in plot.patches:\n",
    "    plot.annotate(format(p.get_height(), ',.0f'),\n",
    "                  (p.get_x() + p.get_width() / 2., p.get_height()),\n",
    "                  ha = 'center',\n",
    "                  va = 'center',\n",
    "                  xytext = (0, 10),\n",
    "                  textcoords = 'offset points')\n",
    "\n",
    "plt.title('Total number of events per each sub-category',fontsize=12)\n",
    "plt.ylabel('Number of events', fontsize=12)\n",
    "plt.xlabel('Sub-category',fontsize=12)\n",
    "plt.ylim(0, table_subcategories_sorted['number_events'].max() * 1.1);"
   ]
  },
  {
   "cell_type": "code",
   "execution_count": 362,
   "metadata": {
    "pycharm": {
     "is_executing": true,
     "name": "#%%\n"
    }
   },
   "outputs": [
    {
     "data": {
      "image/png": "[encoded data removed]",
      "text/plain": [
       "<Figure size 1296x360 with 1 Axes>"
      ]
     },
     "metadata": {},
     "output_type": "display_data"
    }
   ],
   "source": [
    "#Plot number of visits per each sub-category\n",
    "\n",
    "fig = plt.figure(figsize=(18,5))\n",
    "plot = sns.barplot(x='subcategory', y='number_users', data=table_subcategories_sorted.head(10),palette=\"mako\")\n",
    "\n",
    "for p in plot.patches:\n",
    "    plot.annotate(format(p.get_height(), ',.0f'),\n",
    "                  (p.get_x() + p.get_width() / 2., p.get_height()),\n",
    "                  ha = 'center',\n",
    "                  va = 'center',\n",
    "                  xytext = (0, 10),\n",
    "                  textcoords = 'offset points')\n",
    "\n",
    "plt.title('Total number of visits per each sub-category',fontsize=12)\n",
    "plt.ylabel('Number of Clients', fontsize=12)\n",
    "plt.xlabel('Sub-category',fontsize=12)\n",
    "plt.ylim(0, table_subcategories_sorted['number_users'].max() * 1.1);"
   ]
  },
  {
   "cell_type": "markdown",
   "metadata": {},
   "source": [
    "Best conversion rates"
   ]
  },
  {
   "cell_type": "code",
   "execution_count": 363,
   "metadata": {
    "pycharm": {
     "is_executing": true,
     "name": "#%%\n"
    }
   },
   "outputs": [
    {
     "data": {
      "image/png": "[encoded data removed]",
      "text/plain": [
       "<Figure size 1296x360 with 1 Axes>"
      ]
     },
     "metadata": {},
     "output_type": "display_data"
    }
   ],
   "source": [
    "plt.figure(figsize=(18,5))\n",
    "plot = sns.barplot(x='subcategory',y='conversion_percentage',\n",
    "                   data=table_subcategories_sorted.sort_values(by='conversion_percentage',\n",
    "                                                               ascending=False).head(10),palette='summer')\n",
    "\n",
    "for p in plot.patches:\n",
    "    plot.annotate(\"{:.1%}\".format(p.get_height()),\n",
    "                  (p.get_x() + p.get_width() / 2., p.get_height()),\n",
    "                  ha = 'center',\n",
    "                  va = 'center',\n",
    "                  xytext = (0, 10),\n",
    "                  textcoords = 'offset points')\n",
    "\n",
    "plt.title('Conversion percentage per each sub-category',fontsize=12)\n",
    "plt.xlabel('Sub-category',fontsize=12)\n",
    "plt.ylabel('Conversion Percentage',fontsize=12)\n",
    "plt.ylim(0,table_subcategories_sorted['conversion_percentage'].max()*1.3);"
   ]
  },
  {
   "cell_type": "markdown",
   "metadata": {},
   "source": [
    "Worst conversion rates"
   ]
  },
  {
   "cell_type": "code",
   "execution_count": 364,
   "metadata": {
    "pycharm": {
     "is_executing": true,
     "name": "#%%\n"
    }
   },
   "outputs": [
    {
     "data": {
      "image/png": "[encoded data removed]",
      "text/plain": [
       "<Figure size 1296x360 with 1 Axes>"
      ]
     },
     "metadata": {},
     "output_type": "display_data"
    }
   ],
   "source": [
    "plt.figure(figsize=(18,5))\n",
    "plot = sns.barplot(x='subcategory',y='conversion_percentage',\n",
    "                   data=table_subcategories_sorted.sort_values(by='conversion_percentage',\n",
    "                                                               ascending=True).head(10),palette='summer_r')\n",
    "\n",
    "for p in plot.patches:\n",
    "    plot.annotate(\"{:.2%}\".format(p.get_height()),\n",
    "                  (p.get_x() + p.get_width() / 2., p.get_height()),\n",
    "                  ha = 'center',\n",
    "                  va = 'center',\n",
    "                  xytext = (0, 10),\n",
    "                  textcoords = 'offset points')\n",
    "\n",
    "plt.title('Worst conversion percentage per each sub-category',fontsize=12)\n",
    "plt.xlabel('Sub-category',fontsize=12)\n",
    "plt.ylabel('Conversion Percentage',fontsize=12)\n",
    "\n",
    "plt.ylim(0,plot.get_ybound()[1]*1.3);"
   ]
  },
  {
   "cell_type": "code",
   "execution_count": 365,
   "metadata": {
    "pycharm": {
     "is_executing": true,
     "name": "#%%\n"
    }
   },
   "outputs": [],
   "source": [
    "#Free memory\n",
    "del daily_table\n",
    "del sales_filter\n",
    "del table_categories\n",
    "del clients_table\n",
    "del table_subcategory_sales\n",
    "del table_subcategories\n",
    "del table_subcategories_sorted\n",
    "del total_sales_amount_top10\n",
    "del table_regular_clients"
   ]
  },
  {
   "cell_type": "markdown",
   "metadata": {},
   "source": [
    "**Most visited brands**"
   ]
  },
  {
   "cell_type": "code",
   "execution_count": 366,
   "metadata": {},
   "outputs": [
    {
     "data": {
      "image/png": "[encoded data removed]",
      "text/plain": [
       "<Figure size 1296x504 with 1 Axes>"
      ]
     },
     "metadata": {},
     "output_type": "display_data"
    }
   ],
   "source": [
    "top_brands = df['brand'].value_counts().head(50)\n",
    "                                             \n",
    "plt.figure(figsize=(18,7))\n",
    "plt.bar(top_brands.index,top_brands.values, width=0.5)\n",
    "plt.xticks(rotation=90);\n",
    "plt.margins(x=0.005)\n",
    "plt.title('Top 50 Brands', fontsize = 15)\n",
    "plt.xlabel('Names of Brand',fontsize=12)\n",
    "plt.ylabel('Counts',fontsize=12);"
   ]
  },
  {
   "cell_type": "markdown",
   "metadata": {},
   "source": [
    "**Most purchased items**"
   ]
  },
  {
   "cell_type": "code",
   "execution_count": 367,
   "metadata": {
    "pycharm": {
     "is_executing": true,
     "name": "#%%\n"
    }
   },
   "outputs": [
    {
     "name": "stdout",
     "output_type": "stream",
     "text": [
      "            count\n",
      "product_id       \n",
      "1004856     28944\n",
      "1004767     21806\n",
      "1004833     12697\n",
      "1005115     12543\n",
      "4804056     12381\n"
     ]
    }
   ],
   "source": [
    "purchase = df.loc[df['event_type'] == 'purchase']\n",
    "purchase = purchase.dropna(axis='rows')\n",
    "purchase_product=purchase.groupby('product_id')['product_id'].agg(['count']).sort_values('count', ascending=False)\n",
    "\n",
    "print(purchase_product.head())"
   ]
  },
  {
   "cell_type": "markdown",
   "metadata": {},
   "source": [
    "**Most purchased brands**"
   ]
  },
  {
   "cell_type": "code",
   "execution_count": 368,
   "metadata": {
    "pycharm": {
     "is_executing": true,
     "name": "#%%\n"
    }
   },
   "outputs": [
    {
     "data": {
      "text/html": [
       "<div>\n",
       "<style scoped>\n",
       "    .dataframe tbody tr th:only-of-type {\n",
       "        vertical-align: middle;\n",
       "    }\n",
       "\n",
       "    .dataframe tbody tr th {\n",
       "        vertical-align: top;\n",
       "    }\n",
       "\n",
       "    .dataframe thead th {\n",
       "        text-align: right;\n",
       "    }\n",
       "</style>\n",
       "<table border=\"1\" class=\"dataframe\">\n",
       "  <thead>\n",
       "    <tr style=\"text-align: right;\">\n",
       "      <th></th>\n",
       "      <th>count</th>\n",
       "    </tr>\n",
       "    <tr>\n",
       "      <th>brand</th>\n",
       "      <th></th>\n",
       "    </tr>\n",
       "  </thead>\n",
       "  <tbody>\n",
       "    <tr>\n",
       "      <th>samsung</th>\n",
       "      <td>171706</td>\n",
       "    </tr>\n",
       "    <tr>\n",
       "      <th>apple</th>\n",
       "      <td>142577</td>\n",
       "    </tr>\n",
       "    <tr>\n",
       "      <th>xiaomi</th>\n",
       "      <td>46595</td>\n",
       "    </tr>\n",
       "    <tr>\n",
       "      <th>huawei</th>\n",
       "      <td>23294</td>\n",
       "    </tr>\n",
       "    <tr>\n",
       "      <th>oppo</th>\n",
       "      <td>10891</td>\n",
       "    </tr>\n",
       "    <tr>\n",
       "      <th>lg</th>\n",
       "      <td>7831</td>\n",
       "    </tr>\n",
       "    <tr>\n",
       "      <th>acer</th>\n",
       "      <td>6882</td>\n",
       "    </tr>\n",
       "    <tr>\n",
       "      <th>elenberg</th>\n",
       "      <td>5435</td>\n",
       "    </tr>\n",
       "    <tr>\n",
       "      <th>indesit</th>\n",
       "      <td>5023</td>\n",
       "    </tr>\n",
       "    <tr>\n",
       "      <th>artel</th>\n",
       "      <td>4717</td>\n",
       "    </tr>\n",
       "    <tr>\n",
       "      <th>lenovo</th>\n",
       "      <td>4578</td>\n",
       "    </tr>\n",
       "    <tr>\n",
       "      <th>bosch</th>\n",
       "      <td>4055</td>\n",
       "    </tr>\n",
       "    <tr>\n",
       "      <th>beko</th>\n",
       "      <td>3839</td>\n",
       "    </tr>\n",
       "    <tr>\n",
       "      <th>hp</th>\n",
       "      <td>3411</td>\n",
       "    </tr>\n",
       "    <tr>\n",
       "      <th>haier</th>\n",
       "      <td>3044</td>\n",
       "    </tr>\n",
       "    <tr>\n",
       "      <th>casio</th>\n",
       "      <td>2660</td>\n",
       "    </tr>\n",
       "    <tr>\n",
       "      <th>tefal</th>\n",
       "      <td>2598</td>\n",
       "    </tr>\n",
       "    <tr>\n",
       "      <th>midea</th>\n",
       "      <td>2326</td>\n",
       "    </tr>\n",
       "    <tr>\n",
       "      <th>vitek</th>\n",
       "      <td>2292</td>\n",
       "    </tr>\n",
       "    <tr>\n",
       "      <th>sony</th>\n",
       "      <td>2233</td>\n",
       "    </tr>\n",
       "  </tbody>\n",
       "</table>\n",
       "</div>"
      ],
      "text/plain": [
       "           count\n",
       "brand           \n",
       "samsung   171706\n",
       "apple     142577\n",
       "xiaomi     46595\n",
       "huawei     23294\n",
       "oppo       10891\n",
       "lg          7831\n",
       "acer        6882\n",
       "elenberg    5435\n",
       "indesit     5023\n",
       "artel       4717\n",
       "lenovo      4578\n",
       "bosch       4055\n",
       "beko        3839\n",
       "hp          3411\n",
       "haier       3044\n",
       "casio       2660\n",
       "tefal       2598\n",
       "midea       2326\n",
       "vitek       2292\n",
       "sony        2233"
      ]
     },
     "execution_count": 368,
     "metadata": {},
     "output_type": "execute_result"
    }
   ],
   "source": [
    "top_sellers = purchase.groupby('brand')['brand'].agg(['count']).sort_values('count', ascending=False)\n",
    "top_sellers.head(20)"
   ]
  },
  {
   "cell_type": "code",
   "execution_count": 369,
   "metadata": {
    "pycharm": {
     "is_executing": true,
     "name": "#%%\n"
    }
   },
   "outputs": [],
   "source": [
    "#Free memory\n",
    "del purchase\n",
    "del purchase_product\n",
    "del top_sellers"
   ]
  }
 ],
 "metadata": {
  "kernelspec": {
   "display_name": "Python 3",
   "language": "python",
   "name": "python3"
  },
  "language_info": {
   "codemirror_mode": {
    "name": "ipython",
    "version": 3
   },
   "file_extension": ".py",
   "mimetype": "text/x-python",
   "name": "python",
   "nbconvert_exporter": "python",
   "pygments_lexer": "ipython3",
   "version": "3.6.3"
  }
 },
 "nbformat": 4,
 "nbformat_minor": 1
}
